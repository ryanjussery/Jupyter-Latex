{
 "cells": [
  {
   "cell_type": "markdown",
   "metadata": {},
   "source": [
    "# Transforming Data in Python"
   ]
  },
  {
   "cell_type": "markdown",
   "metadata": {},
   "source": [
    "*Start by importing libraries.  The libraries you will need to work with data transformation is numpy, which contains a lot of your basic math functions, and seaborn, if you want to do the fancier histograms with a best fit curve. You shouldn't need anything else.*"
   ]
  },
  {
   "cell_type": "markdown",
   "metadata": {},
   "source": [
    "## Import Packages"
   ]
  },
  {
   "cell_type": "code",
   "execution_count": 1,
   "metadata": {},
   "outputs": [],
   "source": [
    "import pandas as pd\n",
    "import numpy as np\n",
    "import seaborn as sns"
   ]
  },
  {
   "cell_type": "markdown",
   "metadata": {},
   "source": [
    "*Then read in your data.*"
   ]
  },
  {
   "cell_type": "code",
   "execution_count": 2,
   "metadata": {},
   "outputs": [],
   "source": [
    "golf = pd.read_csv('../data/pgaTourData.csv')"
   ]
  },
  {
   "cell_type": "code",
   "execution_count": 3,
   "metadata": {},
   "outputs": [
    {
     "data": {
      "text/html": [
       "<div>\n",
       "<style scoped>\n",
       "    .dataframe tbody tr th:only-of-type {\n",
       "        vertical-align: middle;\n",
       "    }\n",
       "\n",
       "    .dataframe tbody tr th {\n",
       "        vertical-align: top;\n",
       "    }\n",
       "\n",
       "    .dataframe thead th {\n",
       "        text-align: right;\n",
       "    }\n",
       "</style>\n",
       "<table border=\"1\" class=\"dataframe\">\n",
       "  <thead>\n",
       "    <tr style=\"text-align: right;\">\n",
       "      <th></th>\n",
       "      <th>Player Name</th>\n",
       "      <th>Rounds</th>\n",
       "      <th>Fairway Percentage</th>\n",
       "      <th>Year</th>\n",
       "      <th>Avg Distance</th>\n",
       "      <th>gir</th>\n",
       "      <th>Average Putts</th>\n",
       "      <th>Average Scrambling</th>\n",
       "      <th>Average Score</th>\n",
       "      <th>Points</th>\n",
       "      <th>Wins</th>\n",
       "      <th>Top 10</th>\n",
       "      <th>Average SG Putts</th>\n",
       "      <th>Average SG Total</th>\n",
       "      <th>SG:OTT</th>\n",
       "      <th>SG:APR</th>\n",
       "      <th>SG:ARG</th>\n",
       "      <th>Money</th>\n",
       "    </tr>\n",
       "  </thead>\n",
       "  <tbody>\n",
       "    <tr>\n",
       "      <th>0</th>\n",
       "      <td>Henrik Stenson</td>\n",
       "      <td>60.0</td>\n",
       "      <td>75.19</td>\n",
       "      <td>2018</td>\n",
       "      <td>291.5</td>\n",
       "      <td>73.51</td>\n",
       "      <td>29.93</td>\n",
       "      <td>60.67</td>\n",
       "      <td>69.617</td>\n",
       "      <td>868</td>\n",
       "      <td>NaN</td>\n",
       "      <td>5.0</td>\n",
       "      <td>-0.207</td>\n",
       "      <td>1.153</td>\n",
       "      <td>0.427</td>\n",
       "      <td>0.960</td>\n",
       "      <td>-0.027</td>\n",
       "      <td>$2,680,487</td>\n",
       "    </tr>\n",
       "    <tr>\n",
       "      <th>1</th>\n",
       "      <td>Ryan Armour</td>\n",
       "      <td>109.0</td>\n",
       "      <td>73.58</td>\n",
       "      <td>2018</td>\n",
       "      <td>283.5</td>\n",
       "      <td>68.22</td>\n",
       "      <td>29.31</td>\n",
       "      <td>60.13</td>\n",
       "      <td>70.758</td>\n",
       "      <td>1,006</td>\n",
       "      <td>1.0</td>\n",
       "      <td>3.0</td>\n",
       "      <td>-0.058</td>\n",
       "      <td>0.337</td>\n",
       "      <td>-0.012</td>\n",
       "      <td>0.213</td>\n",
       "      <td>0.194</td>\n",
       "      <td>$2,485,203</td>\n",
       "    </tr>\n",
       "    <tr>\n",
       "      <th>2</th>\n",
       "      <td>Chez Reavie</td>\n",
       "      <td>93.0</td>\n",
       "      <td>72.24</td>\n",
       "      <td>2018</td>\n",
       "      <td>286.5</td>\n",
       "      <td>68.67</td>\n",
       "      <td>29.12</td>\n",
       "      <td>62.27</td>\n",
       "      <td>70.432</td>\n",
       "      <td>1,020</td>\n",
       "      <td>NaN</td>\n",
       "      <td>3.0</td>\n",
       "      <td>0.192</td>\n",
       "      <td>0.674</td>\n",
       "      <td>0.183</td>\n",
       "      <td>0.437</td>\n",
       "      <td>-0.137</td>\n",
       "      <td>$2,700,018</td>\n",
       "    </tr>\n",
       "    <tr>\n",
       "      <th>3</th>\n",
       "      <td>Ryan Moore</td>\n",
       "      <td>78.0</td>\n",
       "      <td>71.94</td>\n",
       "      <td>2018</td>\n",
       "      <td>289.2</td>\n",
       "      <td>68.80</td>\n",
       "      <td>29.17</td>\n",
       "      <td>64.16</td>\n",
       "      <td>70.015</td>\n",
       "      <td>795</td>\n",
       "      <td>NaN</td>\n",
       "      <td>5.0</td>\n",
       "      <td>-0.271</td>\n",
       "      <td>0.941</td>\n",
       "      <td>0.406</td>\n",
       "      <td>0.532</td>\n",
       "      <td>0.273</td>\n",
       "      <td>$1,986,608</td>\n",
       "    </tr>\n",
       "    <tr>\n",
       "      <th>4</th>\n",
       "      <td>Brian Stuard</td>\n",
       "      <td>103.0</td>\n",
       "      <td>71.44</td>\n",
       "      <td>2018</td>\n",
       "      <td>278.9</td>\n",
       "      <td>67.12</td>\n",
       "      <td>29.11</td>\n",
       "      <td>59.23</td>\n",
       "      <td>71.038</td>\n",
       "      <td>421</td>\n",
       "      <td>NaN</td>\n",
       "      <td>3.0</td>\n",
       "      <td>0.164</td>\n",
       "      <td>0.062</td>\n",
       "      <td>-0.227</td>\n",
       "      <td>0.099</td>\n",
       "      <td>0.026</td>\n",
       "      <td>$1,089,763</td>\n",
       "    </tr>\n",
       "  </tbody>\n",
       "</table>\n",
       "</div>"
      ],
      "text/plain": [
       "      Player Name  Rounds  Fairway Percentage  Year  Avg Distance    gir  \\\n",
       "0  Henrik Stenson    60.0               75.19  2018         291.5  73.51   \n",
       "1     Ryan Armour   109.0               73.58  2018         283.5  68.22   \n",
       "2     Chez Reavie    93.0               72.24  2018         286.5  68.67   \n",
       "3      Ryan Moore    78.0               71.94  2018         289.2  68.80   \n",
       "4    Brian Stuard   103.0               71.44  2018         278.9  67.12   \n",
       "\n",
       "   Average Putts  Average Scrambling  Average Score Points  Wins  Top 10  \\\n",
       "0          29.93               60.67         69.617    868   NaN     5.0   \n",
       "1          29.31               60.13         70.758  1,006   1.0     3.0   \n",
       "2          29.12               62.27         70.432  1,020   NaN     3.0   \n",
       "3          29.17               64.16         70.015    795   NaN     5.0   \n",
       "4          29.11               59.23         71.038    421   NaN     3.0   \n",
       "\n",
       "   Average SG Putts  Average SG Total  SG:OTT  SG:APR  SG:ARG        Money  \n",
       "0            -0.207             1.153   0.427   0.960  -0.027  $2,680,487   \n",
       "1            -0.058             0.337  -0.012   0.213   0.194  $2,485,203   \n",
       "2             0.192             0.674   0.183   0.437  -0.137  $2,700,018   \n",
       "3            -0.271             0.941   0.406   0.532   0.273  $1,986,608   \n",
       "4             0.164             0.062  -0.227   0.099   0.026  $1,089,763   "
      ]
     },
     "execution_count": 3,
     "metadata": {},
     "output_type": "execute_result"
    }
   ],
   "source": [
    "golf.head()"
   ]
  },
  {
   "cell_type": "markdown",
   "metadata": {},
   "source": [
    "*From the last video, you should have a pretty good idea of what needed transformation and what didn't. You will start by transforming Top.10, which was positively skewed. Just so you can learn, you will start with the square root transformation, even though, spoiler alert! you know it will ultimately need a log transformation.*\n",
    "\n",
    "*Using the pandas .hist() function is the easiest way to generate a histogram in Python. But it doesn't look all that great, and it doesn't have added a best fit curve to easily judge normality. Go ahead and give it a try.*"
   ]
  },
  {
   "cell_type": "code",
   "execution_count": 5,
   "metadata": {},
   "outputs": [
    {
     "data": {
      "text/plain": [
       "<matplotlib.axes._subplots.AxesSubplot at 0x1a47669a400>"
      ]
     },
     "execution_count": 5,
     "metadata": {},
     "output_type": "execute_result"
    },
    {
     "data": {
      "image/png": "[encoded data removed]",
      "text/plain": [
       "<Figure size 432x288 with 1 Axes>"
      ]
     },
     "metadata": {},
     "output_type": "display_data"
    }
   ],
   "source": [
    "golf['Top 10'].hist()"
   ]
  },
  {
   "cell_type": "markdown",
   "metadata": {},
   "source": [
    "*The other way you can visualize your data is with seaborn's distplot. Check it out!* "
   ]
  },
  {
   "cell_type": "code",
   "execution_count": 9,
   "metadata": {},
   "outputs": [
    {
     "name": "stderr",
     "output_type": "stream",
     "text": [
      "C:\\Users\\meredith.dodd\\Anaconda3\\lib\\site-packages\\matplotlib\\axes\\_axes.py:6462: UserWarning: The 'normed' kwarg is deprecated, and has been replaced by the 'density' kwarg.\n",
      "  warnings.warn(\"The 'normed' kwarg is deprecated, and has been \"\n"
     ]
    },
    {
     "data": {
      "text/plain": [
       "<matplotlib.axes._subplots.AxesSubplot at 0x1a476a30b38>"
      ]
     },
     "execution_count": 9,
     "metadata": {},
     "output_type": "execute_result"
    },
    {
     "data": {
      "image/png": "[encoded data removed]",
      "text/plain": [
       "<Figure size 432x288 with 1 Axes>"
      ]
     },
     "metadata": {},
     "output_type": "display_data"
    }
   ],
   "source": [
    "sns.distplot(golf['Top 10'])"
   ]
  },
  {
   "cell_type": "markdown",
   "metadata": {},
   "source": [
    "*Here's the other thing about pandas histograms - they allow missing data arguments.  Seaborn, as you've seen here, does not! But that's ok, it's an easy fix to drop out missing data using the .dropna function from pandas.*"
   ]
  },
  {
   "cell_type": "code",
   "execution_count": 8,
   "metadata": {},
   "outputs": [],
   "source": [
    "golf.dropna(inplace=True)"
   ]
  },
  {
   "cell_type": "markdown",
   "metadata": {},
   "source": [
    "*Then go ahead and run the command again.  See if all your dreams have come true!*"
   ]
  },
  {
   "cell_type": "markdown",
   "metadata": {},
   "source": [
    "*Look at that! They have come true! This is definitely not normally distributed, but it's not terrible either.  Go ahead and try a square root transformation.  You can do this using the numpy function sqrt.*"
   ]
  },
  {
   "cell_type": "code",
   "execution_count": 11,
   "metadata": {},
   "outputs": [],
   "source": [
    "golf['Top10SQRT'] = np.sqrt(golf['Top 10'])"
   ]
  },
  {
   "cell_type": "code",
   "execution_count": 12,
   "metadata": {},
   "outputs": [
    {
     "data": {
      "text/html": [
       "<div>\n",
       "<style scoped>\n",
       "    .dataframe tbody tr th:only-of-type {\n",
       "        vertical-align: middle;\n",
       "    }\n",
       "\n",
       "    .dataframe tbody tr th {\n",
       "        vertical-align: top;\n",
       "    }\n",
       "\n",
       "    .dataframe thead th {\n",
       "        text-align: right;\n",
       "    }\n",
       "</style>\n",
       "<table border=\"1\" class=\"dataframe\">\n",
       "  <thead>\n",
       "    <tr style=\"text-align: right;\">\n",
       "      <th></th>\n",
       "      <th>Player Name</th>\n",
       "      <th>Rounds</th>\n",
       "      <th>Fairway Percentage</th>\n",
       "      <th>Year</th>\n",
       "      <th>Avg Distance</th>\n",
       "      <th>gir</th>\n",
       "      <th>Average Putts</th>\n",
       "      <th>Average Scrambling</th>\n",
       "      <th>Average Score</th>\n",
       "      <th>Points</th>\n",
       "      <th>Wins</th>\n",
       "      <th>Top 10</th>\n",
       "      <th>Average SG Putts</th>\n",
       "      <th>Average SG Total</th>\n",
       "      <th>SG:OTT</th>\n",
       "      <th>SG:APR</th>\n",
       "      <th>SG:ARG</th>\n",
       "      <th>Money</th>\n",
       "      <th>Top10SQRT</th>\n",
       "    </tr>\n",
       "  </thead>\n",
       "  <tbody>\n",
       "    <tr>\n",
       "      <th>1</th>\n",
       "      <td>Ryan Armour</td>\n",
       "      <td>109.0</td>\n",
       "      <td>73.58</td>\n",
       "      <td>2018</td>\n",
       "      <td>283.5</td>\n",
       "      <td>68.22</td>\n",
       "      <td>29.31</td>\n",
       "      <td>60.13</td>\n",
       "      <td>70.758</td>\n",
       "      <td>1,006</td>\n",
       "      <td>1.0</td>\n",
       "      <td>3.0</td>\n",
       "      <td>-0.058</td>\n",
       "      <td>0.337</td>\n",
       "      <td>-0.012</td>\n",
       "      <td>0.213</td>\n",
       "      <td>0.194</td>\n",
       "      <td>$2,485,203</td>\n",
       "      <td>1.732051</td>\n",
       "    </tr>\n",
       "    <tr>\n",
       "      <th>16</th>\n",
       "      <td>Billy Horschel</td>\n",
       "      <td>86.0</td>\n",
       "      <td>67.80</td>\n",
       "      <td>2018</td>\n",
       "      <td>295.4</td>\n",
       "      <td>71.75</td>\n",
       "      <td>29.46</td>\n",
       "      <td>58.03</td>\n",
       "      <td>70.154</td>\n",
       "      <td>960</td>\n",
       "      <td>1.0</td>\n",
       "      <td>3.0</td>\n",
       "      <td>0.392</td>\n",
       "      <td>1.112</td>\n",
       "      <td>0.538</td>\n",
       "      <td>0.352</td>\n",
       "      <td>-0.169</td>\n",
       "      <td>$4,315,200</td>\n",
       "      <td>1.732051</td>\n",
       "    </tr>\n",
       "    <tr>\n",
       "      <th>22</th>\n",
       "      <td>Ted Potter, Jr.</td>\n",
       "      <td>87.0</td>\n",
       "      <td>66.83</td>\n",
       "      <td>2018</td>\n",
       "      <td>286.0</td>\n",
       "      <td>63.03</td>\n",
       "      <td>28.45</td>\n",
       "      <td>57.51</td>\n",
       "      <td>71.024</td>\n",
       "      <td>744</td>\n",
       "      <td>1.0</td>\n",
       "      <td>1.0</td>\n",
       "      <td>0.074</td>\n",
       "      <td>-0.094</td>\n",
       "      <td>-0.074</td>\n",
       "      <td>-0.200</td>\n",
       "      <td>0.105</td>\n",
       "      <td>$1,976,198</td>\n",
       "      <td>1.000000</td>\n",
       "    </tr>\n",
       "    <tr>\n",
       "      <th>23</th>\n",
       "      <td>Austin Cook</td>\n",
       "      <td>107.0</td>\n",
       "      <td>66.76</td>\n",
       "      <td>2018</td>\n",
       "      <td>292.3</td>\n",
       "      <td>66.51</td>\n",
       "      <td>28.72</td>\n",
       "      <td>62.02</td>\n",
       "      <td>70.469</td>\n",
       "      <td>1,060</td>\n",
       "      <td>1.0</td>\n",
       "      <td>3.0</td>\n",
       "      <td>0.315</td>\n",
       "      <td>0.569</td>\n",
       "      <td>0.120</td>\n",
       "      <td>-0.045</td>\n",
       "      <td>0.179</td>\n",
       "      <td>$2,448,920</td>\n",
       "      <td>1.732051</td>\n",
       "    </tr>\n",
       "    <tr>\n",
       "      <th>27</th>\n",
       "      <td>Ian Poulter</td>\n",
       "      <td>73.0</td>\n",
       "      <td>66.41</td>\n",
       "      <td>2018</td>\n",
       "      <td>293.6</td>\n",
       "      <td>67.01</td>\n",
       "      <td>28.97</td>\n",
       "      <td>57.11</td>\n",
       "      <td>70.593</td>\n",
       "      <td>1,030</td>\n",
       "      <td>1.0</td>\n",
       "      <td>4.0</td>\n",
       "      <td>0.223</td>\n",
       "      <td>0.850</td>\n",
       "      <td>0.141</td>\n",
       "      <td>0.435</td>\n",
       "      <td>0.051</td>\n",
       "      <td>$2,714,450</td>\n",
       "      <td>2.000000</td>\n",
       "    </tr>\n",
       "  </tbody>\n",
       "</table>\n",
       "</div>"
      ],
      "text/plain": [
       "        Player Name  Rounds  Fairway Percentage  Year  Avg Distance    gir  \\\n",
       "1       Ryan Armour   109.0               73.58  2018         283.5  68.22   \n",
       "16   Billy Horschel    86.0               67.80  2018         295.4  71.75   \n",
       "22  Ted Potter, Jr.    87.0               66.83  2018         286.0  63.03   \n",
       "23      Austin Cook   107.0               66.76  2018         292.3  66.51   \n",
       "27      Ian Poulter    73.0               66.41  2018         293.6  67.01   \n",
       "\n",
       "    Average Putts  Average Scrambling  Average Score Points  Wins  Top 10  \\\n",
       "1           29.31               60.13         70.758  1,006   1.0     3.0   \n",
       "16          29.46               58.03         70.154    960   1.0     3.0   \n",
       "22          28.45               57.51         71.024    744   1.0     1.0   \n",
       "23          28.72               62.02         70.469  1,060   1.0     3.0   \n",
       "27          28.97               57.11         70.593  1,030   1.0     4.0   \n",
       "\n",
       "    Average SG Putts  Average SG Total  SG:OTT  SG:APR  SG:ARG        Money  \\\n",
       "1             -0.058             0.337  -0.012   0.213   0.194  $2,485,203    \n",
       "16             0.392             1.112   0.538   0.352  -0.169  $4,315,200    \n",
       "22             0.074            -0.094  -0.074  -0.200   0.105  $1,976,198    \n",
       "23             0.315             0.569   0.120  -0.045   0.179  $2,448,920    \n",
       "27             0.223             0.850   0.141   0.435   0.051  $2,714,450    \n",
       "\n",
       "    Top10SQRT  \n",
       "1    1.732051  \n",
       "16   1.732051  \n",
       "22   1.000000  \n",
       "23   1.732051  \n",
       "27   2.000000  "
      ]
     },
     "execution_count": 12,
     "metadata": {},
     "output_type": "execute_result"
    }
   ],
   "source": [
    "golf.head()"
   ]
  },
  {
   "cell_type": "code",
   "execution_count": 13,
   "metadata": {},
   "outputs": [
    {
     "name": "stderr",
     "output_type": "stream",
     "text": [
      "C:\\Users\\meredith.dodd\\Anaconda3\\lib\\site-packages\\matplotlib\\axes\\_axes.py:6462: UserWarning: The 'normed' kwarg is deprecated, and has been replaced by the 'density' kwarg.\n",
      "  warnings.warn(\"The 'normed' kwarg is deprecated, and has been \"\n"
     ]
    },
    {
     "data": {
      "text/plain": [
       "<matplotlib.axes._subplots.AxesSubplot at 0x1a476b565c0>"
      ]
     },
     "execution_count": 13,
     "metadata": {},
     "output_type": "execute_result"
    },
    {
     "data": {
      "image/png": "[encoded data removed]",
      "text/plain": [
       "<Figure size 432x288 with 1 Axes>"
      ]
     },
     "metadata": {},
     "output_type": "display_data"
    }
   ],
   "source": [
    "sns.distplot(golf['Top10SQRT'])"
   ]
  },
  {
   "cell_type": "markdown",
   "metadata": {},
   "source": [
    "*You can ignore hte warning that you get at the top.  The plot still ran, and that is all that matters. That is looking more approximately normal.  But just for funsies, go ahead and try the log transformation as well. This can be done with the numpy function log. Go figure.*"
   ]
  },
  {
   "cell_type": "code",
   "execution_count": 14,
   "metadata": {},
   "outputs": [],
   "source": [
    "golf['Top10LOG'] = np.log(golf['Top 10'])"
   ]
  },
  {
   "cell_type": "code",
   "execution_count": 15,
   "metadata": {},
   "outputs": [
    {
     "data": {
      "text/html": [
       "<div>\n",
       "<style scoped>\n",
       "    .dataframe tbody tr th:only-of-type {\n",
       "        vertical-align: middle;\n",
       "    }\n",
       "\n",
       "    .dataframe tbody tr th {\n",
       "        vertical-align: top;\n",
       "    }\n",
       "\n",
       "    .dataframe thead th {\n",
       "        text-align: right;\n",
       "    }\n",
       "</style>\n",
       "<table border=\"1\" class=\"dataframe\">\n",
       "  <thead>\n",
       "    <tr style=\"text-align: right;\">\n",
       "      <th></th>\n",
       "      <th>Player Name</th>\n",
       "      <th>Rounds</th>\n",
       "      <th>Fairway Percentage</th>\n",
       "      <th>Year</th>\n",
       "      <th>Avg Distance</th>\n",
       "      <th>gir</th>\n",
       "      <th>Average Putts</th>\n",
       "      <th>Average Scrambling</th>\n",
       "      <th>Average Score</th>\n",
       "      <th>Points</th>\n",
       "      <th>Wins</th>\n",
       "      <th>Top 10</th>\n",
       "      <th>Average SG Putts</th>\n",
       "      <th>Average SG Total</th>\n",
       "      <th>SG:OTT</th>\n",
       "      <th>SG:APR</th>\n",
       "      <th>SG:ARG</th>\n",
       "      <th>Money</th>\n",
       "      <th>Top10SQRT</th>\n",
       "      <th>Top10LOG</th>\n",
       "    </tr>\n",
       "  </thead>\n",
       "  <tbody>\n",
       "    <tr>\n",
       "      <th>1</th>\n",
       "      <td>Ryan Armour</td>\n",
       "      <td>109.0</td>\n",
       "      <td>73.58</td>\n",
       "      <td>2018</td>\n",
       "      <td>283.5</td>\n",
       "      <td>68.22</td>\n",
       "      <td>29.31</td>\n",
       "      <td>60.13</td>\n",
       "      <td>70.758</td>\n",
       "      <td>1,006</td>\n",
       "      <td>1.0</td>\n",
       "      <td>3.0</td>\n",
       "      <td>-0.058</td>\n",
       "      <td>0.337</td>\n",
       "      <td>-0.012</td>\n",
       "      <td>0.213</td>\n",
       "      <td>0.194</td>\n",
       "      <td>$2,485,203</td>\n",
       "      <td>1.732051</td>\n",
       "      <td>1.098612</td>\n",
       "    </tr>\n",
       "    <tr>\n",
       "      <th>16</th>\n",
       "      <td>Billy Horschel</td>\n",
       "      <td>86.0</td>\n",
       "      <td>67.80</td>\n",
       "      <td>2018</td>\n",
       "      <td>295.4</td>\n",
       "      <td>71.75</td>\n",
       "      <td>29.46</td>\n",
       "      <td>58.03</td>\n",
       "      <td>70.154</td>\n",
       "      <td>960</td>\n",
       "      <td>1.0</td>\n",
       "      <td>3.0</td>\n",
       "      <td>0.392</td>\n",
       "      <td>1.112</td>\n",
       "      <td>0.538</td>\n",
       "      <td>0.352</td>\n",
       "      <td>-0.169</td>\n",
       "      <td>$4,315,200</td>\n",
       "      <td>1.732051</td>\n",
       "      <td>1.098612</td>\n",
       "    </tr>\n",
       "    <tr>\n",
       "      <th>22</th>\n",
       "      <td>Ted Potter, Jr.</td>\n",
       "      <td>87.0</td>\n",
       "      <td>66.83</td>\n",
       "      <td>2018</td>\n",
       "      <td>286.0</td>\n",
       "      <td>63.03</td>\n",
       "      <td>28.45</td>\n",
       "      <td>57.51</td>\n",
       "      <td>71.024</td>\n",
       "      <td>744</td>\n",
       "      <td>1.0</td>\n",
       "      <td>1.0</td>\n",
       "      <td>0.074</td>\n",
       "      <td>-0.094</td>\n",
       "      <td>-0.074</td>\n",
       "      <td>-0.200</td>\n",
       "      <td>0.105</td>\n",
       "      <td>$1,976,198</td>\n",
       "      <td>1.000000</td>\n",
       "      <td>0.000000</td>\n",
       "    </tr>\n",
       "    <tr>\n",
       "      <th>23</th>\n",
       "      <td>Austin Cook</td>\n",
       "      <td>107.0</td>\n",
       "      <td>66.76</td>\n",
       "      <td>2018</td>\n",
       "      <td>292.3</td>\n",
       "      <td>66.51</td>\n",
       "      <td>28.72</td>\n",
       "      <td>62.02</td>\n",
       "      <td>70.469</td>\n",
       "      <td>1,060</td>\n",
       "      <td>1.0</td>\n",
       "      <td>3.0</td>\n",
       "      <td>0.315</td>\n",
       "      <td>0.569</td>\n",
       "      <td>0.120</td>\n",
       "      <td>-0.045</td>\n",
       "      <td>0.179</td>\n",
       "      <td>$2,448,920</td>\n",
       "      <td>1.732051</td>\n",
       "      <td>1.098612</td>\n",
       "    </tr>\n",
       "    <tr>\n",
       "      <th>27</th>\n",
       "      <td>Ian Poulter</td>\n",
       "      <td>73.0</td>\n",
       "      <td>66.41</td>\n",
       "      <td>2018</td>\n",
       "      <td>293.6</td>\n",
       "      <td>67.01</td>\n",
       "      <td>28.97</td>\n",
       "      <td>57.11</td>\n",
       "      <td>70.593</td>\n",
       "      <td>1,030</td>\n",
       "      <td>1.0</td>\n",
       "      <td>4.0</td>\n",
       "      <td>0.223</td>\n",
       "      <td>0.850</td>\n",
       "      <td>0.141</td>\n",
       "      <td>0.435</td>\n",
       "      <td>0.051</td>\n",
       "      <td>$2,714,450</td>\n",
       "      <td>2.000000</td>\n",
       "      <td>1.386294</td>\n",
       "    </tr>\n",
       "  </tbody>\n",
       "</table>\n",
       "</div>"
      ],
      "text/plain": [
       "        Player Name  Rounds  Fairway Percentage  Year  Avg Distance    gir  \\\n",
       "1       Ryan Armour   109.0               73.58  2018         283.5  68.22   \n",
       "16   Billy Horschel    86.0               67.80  2018         295.4  71.75   \n",
       "22  Ted Potter, Jr.    87.0               66.83  2018         286.0  63.03   \n",
       "23      Austin Cook   107.0               66.76  2018         292.3  66.51   \n",
       "27      Ian Poulter    73.0               66.41  2018         293.6  67.01   \n",
       "\n",
       "    Average Putts  Average Scrambling  Average Score Points  Wins  Top 10  \\\n",
       "1           29.31               60.13         70.758  1,006   1.0     3.0   \n",
       "16          29.46               58.03         70.154    960   1.0     3.0   \n",
       "22          28.45               57.51         71.024    744   1.0     1.0   \n",
       "23          28.72               62.02         70.469  1,060   1.0     3.0   \n",
       "27          28.97               57.11         70.593  1,030   1.0     4.0   \n",
       "\n",
       "    Average SG Putts  Average SG Total  SG:OTT  SG:APR  SG:ARG        Money  \\\n",
       "1             -0.058             0.337  -0.012   0.213   0.194  $2,485,203    \n",
       "16             0.392             1.112   0.538   0.352  -0.169  $4,315,200    \n",
       "22             0.074            -0.094  -0.074  -0.200   0.105  $1,976,198    \n",
       "23             0.315             0.569   0.120  -0.045   0.179  $2,448,920    \n",
       "27             0.223             0.850   0.141   0.435   0.051  $2,714,450    \n",
       "\n",
       "    Top10SQRT  Top10LOG  \n",
       "1    1.732051  1.098612  \n",
       "16   1.732051  1.098612  \n",
       "22   1.000000  0.000000  \n",
       "23   1.732051  1.098612  \n",
       "27   2.000000  1.386294  "
      ]
     },
     "execution_count": 15,
     "metadata": {},
     "output_type": "execute_result"
    }
   ],
   "source": [
    "golf.head()"
   ]
  },
  {
   "cell_type": "code",
   "execution_count": 16,
   "metadata": {},
   "outputs": [
    {
     "name": "stderr",
     "output_type": "stream",
     "text": [
      "C:\\Users\\meredith.dodd\\Anaconda3\\lib\\site-packages\\matplotlib\\axes\\_axes.py:6462: UserWarning: The 'normed' kwarg is deprecated, and has been replaced by the 'density' kwarg.\n",
      "  warnings.warn(\"The 'normed' kwarg is deprecated, and has been \"\n"
     ]
    },
    {
     "data": {
      "text/plain": [
       "<matplotlib.axes._subplots.AxesSubplot at 0x1a476bd9518>"
      ]
     },
     "execution_count": 16,
     "metadata": {},
     "output_type": "execute_result"
    },
    {
     "data": {
      "image/png": "[encoded data removed]",
      "text/plain": [
       "<Figure size 432x288 with 1 Axes>"
      ]
     },
     "metadata": {},
     "output_type": "display_data"
    }
   ],
   "source": [
    "sns.distplot(golf['Top10LOG'])"
   ]
  },
  {
   "cell_type": "markdown",
   "metadata": {},
   "source": [
    "*And there you are. Although log may not have been the most appropriate transformation here, you at least know how to do it in Python now.*"
   ]
  },
  {
   "cell_type": "markdown",
   "metadata": {},
   "source": [
    "*How about taking a crack at transforming something that was negatively skewed? Although SG.ARG was not very negatively skewed, you can still practice squaring and cubing it for transformation to get the hang of it.*"
   ]
  },
  {
   "cell_type": "code",
   "execution_count": 22,
   "metadata": {},
   "outputs": [],
   "source": [
    "golf['SGARGsq'] = golf['SG:ARG']**2"
   ]
  },
  {
   "cell_type": "markdown",
   "metadata": {},
   "source": [
    "*The star star 2 at the end indicates you are squaring it.*"
   ]
  },
  {
   "cell_type": "code",
   "execution_count": 23,
   "metadata": {},
   "outputs": [
    {
     "data": {
      "text/html": [
       "<div>\n",
       "<style scoped>\n",
       "    .dataframe tbody tr th:only-of-type {\n",
       "        vertical-align: middle;\n",
       "    }\n",
       "\n",
       "    .dataframe tbody tr th {\n",
       "        vertical-align: top;\n",
       "    }\n",
       "\n",
       "    .dataframe thead th {\n",
       "        text-align: right;\n",
       "    }\n",
       "</style>\n",
       "<table border=\"1\" class=\"dataframe\">\n",
       "  <thead>\n",
       "    <tr style=\"text-align: right;\">\n",
       "      <th></th>\n",
       "      <th>Player Name</th>\n",
       "      <th>Rounds</th>\n",
       "      <th>Fairway Percentage</th>\n",
       "      <th>Year</th>\n",
       "      <th>Avg Distance</th>\n",
       "      <th>gir</th>\n",
       "      <th>Average Putts</th>\n",
       "      <th>Average Scrambling</th>\n",
       "      <th>Average Score</th>\n",
       "      <th>Points</th>\n",
       "      <th>...</th>\n",
       "      <th>Average SG Putts</th>\n",
       "      <th>Average SG Total</th>\n",
       "      <th>SG:OTT</th>\n",
       "      <th>SG:APR</th>\n",
       "      <th>SG:ARG</th>\n",
       "      <th>Money</th>\n",
       "      <th>Top10SQRT</th>\n",
       "      <th>Top10LOG</th>\n",
       "      <th>Top10SQ</th>\n",
       "      <th>SGARGsq</th>\n",
       "    </tr>\n",
       "  </thead>\n",
       "  <tbody>\n",
       "    <tr>\n",
       "      <th>1</th>\n",
       "      <td>Ryan Armour</td>\n",
       "      <td>109.0</td>\n",
       "      <td>73.58</td>\n",
       "      <td>2018</td>\n",
       "      <td>283.5</td>\n",
       "      <td>68.22</td>\n",
       "      <td>29.31</td>\n",
       "      <td>60.13</td>\n",
       "      <td>70.758</td>\n",
       "      <td>1,006</td>\n",
       "      <td>...</td>\n",
       "      <td>-0.058</td>\n",
       "      <td>0.337</td>\n",
       "      <td>-0.012</td>\n",
       "      <td>0.213</td>\n",
       "      <td>0.194</td>\n",
       "      <td>$2,485,203</td>\n",
       "      <td>1.732051</td>\n",
       "      <td>1.098612</td>\n",
       "      <td>9.0</td>\n",
       "      <td>0.037636</td>\n",
       "    </tr>\n",
       "    <tr>\n",
       "      <th>16</th>\n",
       "      <td>Billy Horschel</td>\n",
       "      <td>86.0</td>\n",
       "      <td>67.80</td>\n",
       "      <td>2018</td>\n",
       "      <td>295.4</td>\n",
       "      <td>71.75</td>\n",
       "      <td>29.46</td>\n",
       "      <td>58.03</td>\n",
       "      <td>70.154</td>\n",
       "      <td>960</td>\n",
       "      <td>...</td>\n",
       "      <td>0.392</td>\n",
       "      <td>1.112</td>\n",
       "      <td>0.538</td>\n",
       "      <td>0.352</td>\n",
       "      <td>-0.169</td>\n",
       "      <td>$4,315,200</td>\n",
       "      <td>1.732051</td>\n",
       "      <td>1.098612</td>\n",
       "      <td>9.0</td>\n",
       "      <td>0.028561</td>\n",
       "    </tr>\n",
       "    <tr>\n",
       "      <th>22</th>\n",
       "      <td>Ted Potter, Jr.</td>\n",
       "      <td>87.0</td>\n",
       "      <td>66.83</td>\n",
       "      <td>2018</td>\n",
       "      <td>286.0</td>\n",
       "      <td>63.03</td>\n",
       "      <td>28.45</td>\n",
       "      <td>57.51</td>\n",
       "      <td>71.024</td>\n",
       "      <td>744</td>\n",
       "      <td>...</td>\n",
       "      <td>0.074</td>\n",
       "      <td>-0.094</td>\n",
       "      <td>-0.074</td>\n",
       "      <td>-0.200</td>\n",
       "      <td>0.105</td>\n",
       "      <td>$1,976,198</td>\n",
       "      <td>1.000000</td>\n",
       "      <td>0.000000</td>\n",
       "      <td>1.0</td>\n",
       "      <td>0.011025</td>\n",
       "    </tr>\n",
       "    <tr>\n",
       "      <th>23</th>\n",
       "      <td>Austin Cook</td>\n",
       "      <td>107.0</td>\n",
       "      <td>66.76</td>\n",
       "      <td>2018</td>\n",
       "      <td>292.3</td>\n",
       "      <td>66.51</td>\n",
       "      <td>28.72</td>\n",
       "      <td>62.02</td>\n",
       "      <td>70.469</td>\n",
       "      <td>1,060</td>\n",
       "      <td>...</td>\n",
       "      <td>0.315</td>\n",
       "      <td>0.569</td>\n",
       "      <td>0.120</td>\n",
       "      <td>-0.045</td>\n",
       "      <td>0.179</td>\n",
       "      <td>$2,448,920</td>\n",
       "      <td>1.732051</td>\n",
       "      <td>1.098612</td>\n",
       "      <td>9.0</td>\n",
       "      <td>0.032041</td>\n",
       "    </tr>\n",
       "    <tr>\n",
       "      <th>27</th>\n",
       "      <td>Ian Poulter</td>\n",
       "      <td>73.0</td>\n",
       "      <td>66.41</td>\n",
       "      <td>2018</td>\n",
       "      <td>293.6</td>\n",
       "      <td>67.01</td>\n",
       "      <td>28.97</td>\n",
       "      <td>57.11</td>\n",
       "      <td>70.593</td>\n",
       "      <td>1,030</td>\n",
       "      <td>...</td>\n",
       "      <td>0.223</td>\n",
       "      <td>0.850</td>\n",
       "      <td>0.141</td>\n",
       "      <td>0.435</td>\n",
       "      <td>0.051</td>\n",
       "      <td>$2,714,450</td>\n",
       "      <td>2.000000</td>\n",
       "      <td>1.386294</td>\n",
       "      <td>16.0</td>\n",
       "      <td>0.002601</td>\n",
       "    </tr>\n",
       "  </tbody>\n",
       "</table>\n",
       "<p>5 rows × 22 columns</p>\n",
       "</div>"
      ],
      "text/plain": [
       "        Player Name  Rounds  Fairway Percentage  Year  Avg Distance    gir  \\\n",
       "1       Ryan Armour   109.0               73.58  2018         283.5  68.22   \n",
       "16   Billy Horschel    86.0               67.80  2018         295.4  71.75   \n",
       "22  Ted Potter, Jr.    87.0               66.83  2018         286.0  63.03   \n",
       "23      Austin Cook   107.0               66.76  2018         292.3  66.51   \n",
       "27      Ian Poulter    73.0               66.41  2018         293.6  67.01   \n",
       "\n",
       "    Average Putts  Average Scrambling  Average Score Points    ...     \\\n",
       "1           29.31               60.13         70.758  1,006    ...      \n",
       "16          29.46               58.03         70.154    960    ...      \n",
       "22          28.45               57.51         71.024    744    ...      \n",
       "23          28.72               62.02         70.469  1,060    ...      \n",
       "27          28.97               57.11         70.593  1,030    ...      \n",
       "\n",
       "    Average SG Putts  Average SG Total  SG:OTT  SG:APR  SG:ARG        Money  \\\n",
       "1             -0.058             0.337  -0.012   0.213   0.194  $2,485,203    \n",
       "16             0.392             1.112   0.538   0.352  -0.169  $4,315,200    \n",
       "22             0.074            -0.094  -0.074  -0.200   0.105  $1,976,198    \n",
       "23             0.315             0.569   0.120  -0.045   0.179  $2,448,920    \n",
       "27             0.223             0.850   0.141   0.435   0.051  $2,714,450    \n",
       "\n",
       "    Top10SQRT  Top10LOG  Top10SQ   SGARGsq  \n",
       "1    1.732051  1.098612      9.0  0.037636  \n",
       "16   1.732051  1.098612      9.0  0.028561  \n",
       "22   1.000000  0.000000      1.0  0.011025  \n",
       "23   1.732051  1.098612      9.0  0.032041  \n",
       "27   2.000000  1.386294     16.0  0.002601  \n",
       "\n",
       "[5 rows x 22 columns]"
      ]
     },
     "execution_count": 23,
     "metadata": {},
     "output_type": "execute_result"
    }
   ],
   "source": [
    "golf.head()"
   ]
  },
  {
   "cell_type": "markdown",
   "metadata": {},
   "source": [
    "*And you can take a look at it with your distplot*"
   ]
  },
  {
   "cell_type": "code",
   "execution_count": 24,
   "metadata": {},
   "outputs": [
    {
     "name": "stderr",
     "output_type": "stream",
     "text": [
      "C:\\Users\\meredith.dodd\\Anaconda3\\lib\\site-packages\\matplotlib\\axes\\_axes.py:6462: UserWarning: The 'normed' kwarg is deprecated, and has been replaced by the 'density' kwarg.\n",
      "  warnings.warn(\"The 'normed' kwarg is deprecated, and has been \"\n"
     ]
    },
    {
     "data": {
      "text/plain": [
       "<matplotlib.axes._subplots.AxesSubplot at 0x1a476caa1d0>"
      ]
     },
     "execution_count": 24,
     "metadata": {},
     "output_type": "execute_result"
    },
    {
     "data": {
      "image/png": "[encoded data removed]",
      "text/plain": [
       "<Figure size 432x288 with 1 Axes>"
      ]
     },
     "metadata": {},
     "output_type": "display_data"
    }
   ],
   "source": [
    "sns.distplot(golf['SGARGsq'])"
   ]
  },
  {
   "cell_type": "markdown",
   "metadata": {},
   "source": [
    "*And here's how you would cube it. Just change that two to a three and away you go!*"
   ]
  },
  {
   "cell_type": "code",
   "execution_count": 25,
   "metadata": {},
   "outputs": [],
   "source": [
    "golf['SGARGcube'] = golf['SG:ARG']**3"
   ]
  },
  {
   "cell_type": "code",
   "execution_count": 26,
   "metadata": {},
   "outputs": [
    {
     "data": {
      "text/html": [
       "<div>\n",
       "<style scoped>\n",
       "    .dataframe tbody tr th:only-of-type {\n",
       "        vertical-align: middle;\n",
       "    }\n",
       "\n",
       "    .dataframe tbody tr th {\n",
       "        vertical-align: top;\n",
       "    }\n",
       "\n",
       "    .dataframe thead th {\n",
       "        text-align: right;\n",
       "    }\n",
       "</style>\n",
       "<table border=\"1\" class=\"dataframe\">\n",
       "  <thead>\n",
       "    <tr style=\"text-align: right;\">\n",
       "      <th></th>\n",
       "      <th>Player Name</th>\n",
       "      <th>Rounds</th>\n",
       "      <th>Fairway Percentage</th>\n",
       "      <th>Year</th>\n",
       "      <th>Avg Distance</th>\n",
       "      <th>gir</th>\n",
       "      <th>Average Putts</th>\n",
       "      <th>Average Scrambling</th>\n",
       "      <th>Average Score</th>\n",
       "      <th>Points</th>\n",
       "      <th>...</th>\n",
       "      <th>Average SG Total</th>\n",
       "      <th>SG:OTT</th>\n",
       "      <th>SG:APR</th>\n",
       "      <th>SG:ARG</th>\n",
       "      <th>Money</th>\n",
       "      <th>Top10SQRT</th>\n",
       "      <th>Top10LOG</th>\n",
       "      <th>Top10SQ</th>\n",
       "      <th>SGARGsq</th>\n",
       "      <th>SGARGcube</th>\n",
       "    </tr>\n",
       "  </thead>\n",
       "  <tbody>\n",
       "    <tr>\n",
       "      <th>1</th>\n",
       "      <td>Ryan Armour</td>\n",
       "      <td>109.0</td>\n",
       "      <td>73.58</td>\n",
       "      <td>2018</td>\n",
       "      <td>283.5</td>\n",
       "      <td>68.22</td>\n",
       "      <td>29.31</td>\n",
       "      <td>60.13</td>\n",
       "      <td>70.758</td>\n",
       "      <td>1,006</td>\n",
       "      <td>...</td>\n",
       "      <td>0.337</td>\n",
       "      <td>-0.012</td>\n",
       "      <td>0.213</td>\n",
       "      <td>0.194</td>\n",
       "      <td>$2,485,203</td>\n",
       "      <td>1.732051</td>\n",
       "      <td>1.098612</td>\n",
       "      <td>9.0</td>\n",
       "      <td>0.037636</td>\n",
       "      <td>0.007301</td>\n",
       "    </tr>\n",
       "    <tr>\n",
       "      <th>16</th>\n",
       "      <td>Billy Horschel</td>\n",
       "      <td>86.0</td>\n",
       "      <td>67.80</td>\n",
       "      <td>2018</td>\n",
       "      <td>295.4</td>\n",
       "      <td>71.75</td>\n",
       "      <td>29.46</td>\n",
       "      <td>58.03</td>\n",
       "      <td>70.154</td>\n",
       "      <td>960</td>\n",
       "      <td>...</td>\n",
       "      <td>1.112</td>\n",
       "      <td>0.538</td>\n",
       "      <td>0.352</td>\n",
       "      <td>-0.169</td>\n",
       "      <td>$4,315,200</td>\n",
       "      <td>1.732051</td>\n",
       "      <td>1.098612</td>\n",
       "      <td>9.0</td>\n",
       "      <td>0.028561</td>\n",
       "      <td>-0.004827</td>\n",
       "    </tr>\n",
       "    <tr>\n",
       "      <th>22</th>\n",
       "      <td>Ted Potter, Jr.</td>\n",
       "      <td>87.0</td>\n",
       "      <td>66.83</td>\n",
       "      <td>2018</td>\n",
       "      <td>286.0</td>\n",
       "      <td>63.03</td>\n",
       "      <td>28.45</td>\n",
       "      <td>57.51</td>\n",
       "      <td>71.024</td>\n",
       "      <td>744</td>\n",
       "      <td>...</td>\n",
       "      <td>-0.094</td>\n",
       "      <td>-0.074</td>\n",
       "      <td>-0.200</td>\n",
       "      <td>0.105</td>\n",
       "      <td>$1,976,198</td>\n",
       "      <td>1.000000</td>\n",
       "      <td>0.000000</td>\n",
       "      <td>1.0</td>\n",
       "      <td>0.011025</td>\n",
       "      <td>0.001158</td>\n",
       "    </tr>\n",
       "    <tr>\n",
       "      <th>23</th>\n",
       "      <td>Austin Cook</td>\n",
       "      <td>107.0</td>\n",
       "      <td>66.76</td>\n",
       "      <td>2018</td>\n",
       "      <td>292.3</td>\n",
       "      <td>66.51</td>\n",
       "      <td>28.72</td>\n",
       "      <td>62.02</td>\n",
       "      <td>70.469</td>\n",
       "      <td>1,060</td>\n",
       "      <td>...</td>\n",
       "      <td>0.569</td>\n",
       "      <td>0.120</td>\n",
       "      <td>-0.045</td>\n",
       "      <td>0.179</td>\n",
       "      <td>$2,448,920</td>\n",
       "      <td>1.732051</td>\n",
       "      <td>1.098612</td>\n",
       "      <td>9.0</td>\n",
       "      <td>0.032041</td>\n",
       "      <td>0.005735</td>\n",
       "    </tr>\n",
       "    <tr>\n",
       "      <th>27</th>\n",
       "      <td>Ian Poulter</td>\n",
       "      <td>73.0</td>\n",
       "      <td>66.41</td>\n",
       "      <td>2018</td>\n",
       "      <td>293.6</td>\n",
       "      <td>67.01</td>\n",
       "      <td>28.97</td>\n",
       "      <td>57.11</td>\n",
       "      <td>70.593</td>\n",
       "      <td>1,030</td>\n",
       "      <td>...</td>\n",
       "      <td>0.850</td>\n",
       "      <td>0.141</td>\n",
       "      <td>0.435</td>\n",
       "      <td>0.051</td>\n",
       "      <td>$2,714,450</td>\n",
       "      <td>2.000000</td>\n",
       "      <td>1.386294</td>\n",
       "      <td>16.0</td>\n",
       "      <td>0.002601</td>\n",
       "      <td>0.000133</td>\n",
       "    </tr>\n",
       "  </tbody>\n",
       "</table>\n",
       "<p>5 rows × 23 columns</p>\n",
       "</div>"
      ],
      "text/plain": [
       "        Player Name  Rounds  Fairway Percentage  Year  Avg Distance    gir  \\\n",
       "1       Ryan Armour   109.0               73.58  2018         283.5  68.22   \n",
       "16   Billy Horschel    86.0               67.80  2018         295.4  71.75   \n",
       "22  Ted Potter, Jr.    87.0               66.83  2018         286.0  63.03   \n",
       "23      Austin Cook   107.0               66.76  2018         292.3  66.51   \n",
       "27      Ian Poulter    73.0               66.41  2018         293.6  67.01   \n",
       "\n",
       "    Average Putts  Average Scrambling  Average Score Points    ...      \\\n",
       "1           29.31               60.13         70.758  1,006    ...       \n",
       "16          29.46               58.03         70.154    960    ...       \n",
       "22          28.45               57.51         71.024    744    ...       \n",
       "23          28.72               62.02         70.469  1,060    ...       \n",
       "27          28.97               57.11         70.593  1,030    ...       \n",
       "\n",
       "    Average SG Total  SG:OTT  SG:APR  SG:ARG        Money  Top10SQRT  \\\n",
       "1              0.337  -0.012   0.213   0.194  $2,485,203    1.732051   \n",
       "16             1.112   0.538   0.352  -0.169  $4,315,200    1.732051   \n",
       "22            -0.094  -0.074  -0.200   0.105  $1,976,198    1.000000   \n",
       "23             0.569   0.120  -0.045   0.179  $2,448,920    1.732051   \n",
       "27             0.850   0.141   0.435   0.051  $2,714,450    2.000000   \n",
       "\n",
       "    Top10LOG Top10SQ   SGARGsq  SGARGcube  \n",
       "1   1.098612     9.0  0.037636   0.007301  \n",
       "16  1.098612     9.0  0.028561  -0.004827  \n",
       "22  0.000000     1.0  0.011025   0.001158  \n",
       "23  1.098612     9.0  0.032041   0.005735  \n",
       "27  1.386294    16.0  0.002601   0.000133  \n",
       "\n",
       "[5 rows x 23 columns]"
      ]
     },
     "execution_count": 26,
     "metadata": {},
     "output_type": "execute_result"
    }
   ],
   "source": [
    "golf.head()"
   ]
  },
  {
   "cell_type": "code",
   "execution_count": 27,
   "metadata": {},
   "outputs": [
    {
     "name": "stderr",
     "output_type": "stream",
     "text": [
      "C:\\Users\\meredith.dodd\\Anaconda3\\lib\\site-packages\\matplotlib\\axes\\_axes.py:6462: UserWarning: The 'normed' kwarg is deprecated, and has been replaced by the 'density' kwarg.\n",
      "  warnings.warn(\"The 'normed' kwarg is deprecated, and has been \"\n"
     ]
    },
    {
     "data": {
      "text/plain": [
       "<matplotlib.axes._subplots.AxesSubplot at 0x1a476c09e48>"
      ]
     },
     "execution_count": 27,
     "metadata": {},
     "output_type": "execute_result"
    },
    {
     "data": {
      "image/png": "[encoded data removed]",
      "text/plain": [
       "<Figure size 432x288 with 1 Axes>"
      ]
     },
     "metadata": {},
     "output_type": "display_data"
    }
   ],
   "source": [
    "sns.distplot(golf['SGARGcube'])"
   ]
  },
  {
   "cell_type": "markdown",
   "metadata": {},
   "source": [
    "*Obviously, you wouldn't want to use that transformation on this data in real life, but at least you know how to cube it now, should it come up in other datasets for you.*"
   ]
  },
  {
   "cell_type": "code",
   "execution_count": null,
   "metadata": {},
   "outputs": [],
   "source": []
  }
 ],
 "metadata": {
  "kernelspec": {
   "display_name": "Python 3",
   "language": "python",
   "name": "python3"
  },
  "language_info": {
   "codemirror_mode": {
    "name": "ipython",
    "version": 3
   },
   "file_extension": ".py",
   "mimetype": "text/x-python",
   "name": "python",
   "nbconvert_exporter": "python",
   "pygments_lexer": "ipython3",
   "version": "3.8.8"
  }
 },
 "nbformat": 4,
 "nbformat_minor": 4
}
