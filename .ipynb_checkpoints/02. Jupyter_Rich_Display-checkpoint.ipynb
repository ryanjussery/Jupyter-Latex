{
 "cells": [
  {
   "cell_type": "code",
   "execution_count": 1,
   "metadata": {},
   "outputs": [],
   "source": [
    "from IPython.display import Image"
   ]
  },
  {
   "cell_type": "code",
   "execution_count": 2,
   "metadata": {},
   "outputs": [
    {
     "data": {
      "text/html": [
       "<img src=\"https://coe.gsa.gov/images/coe-logo.svg\"/>"
      ],
      "text/plain": [
       "<IPython.core.display.Image object>"
      ]
     },
     "execution_count": 2,
     "metadata": {},
     "output_type": "execute_result"
    }
   ],
   "source": [
    "#I use the Image keyword here so github nbviewer will render on github\n",
    "Image(url='https://coe.gsa.gov/images/coe-logo.svg')"
   ]
  },
  {
   "cell_type": "markdown",
   "metadata": {},
   "source": [
    "or we can use HTML tags to size and align and various other capabilities just using HTML. see https://www.w3schools.com/tags/tag_img.asp"
   ]
  },
  {
   "cell_type": "markdown",
   "metadata": {},
   "source": [
    "Perhaps we want to take this large image and want to reduce the size and relocate it.\n",
    "<img src=\"https://coe.gsa.gov/images/coe-logo.svg\" align=\"left\" alt=\"COE image\" width = \"600\">"
   ]
  },
  {
   "cell_type": "code",
   "execution_count": 3,
   "metadata": {},
   "outputs": [],
   "source": [
    "import pandas as pd"
   ]
  },
  {
   "cell_type": "markdown",
   "metadata": {},
   "source": [
    "In Python, objects can declare their textual representation using the `__repr__` method.  IPython expands on this idea and allows objects to declare other, richer representations including:\n",
    "\n",
    "* HTML\n",
    "* JSON\n",
    "* PNG\n",
    "* JPEG\n",
    "* SVG\n",
    "* LaTeX\n",
    "\n",
    "A single object can declare some or all of these representations; all are handled by IPython's *display system*. This Notebook shows how you can use this display system to incorporate a broad range of content into your Notebooks."
   ]
  },
  {
   "cell_type": "markdown",
   "metadata": {},
   "source": [
    "## Basic display imports\n",
    "\n",
    "The `display` function is a general purpose tool for displaying different representations of objects. Think of it as `print` for these rich representations."
   ]
  },
  {
   "cell_type": "code",
   "execution_count": 4,
   "metadata": {},
   "outputs": [],
   "source": [
    "from IPython.display import display"
   ]
  },
  {
   "cell_type": "markdown",
   "metadata": {},
   "source": [
    "A few points:\n",
    "\n",
    "* Calling `display` on an object will send **all** possible representations to the Notebook.\n",
    "* These representations are stored in the Notebook document.\n",
    "* In general the Notebook will use the richest available representation.\n",
    "\n",
    "If you want to display a particular representation, there are specific functions for that:"
   ]
  },
  {
   "cell_type": "code",
   "execution_count": 3,
   "metadata": {},
   "outputs": [],
   "source": [
    "from IPython.display import display_pretty, display_html, display_jpeg, display_png, display_json, display_latex, display_svg"
   ]
  },
  {
   "cell_type": "markdown",
   "metadata": {},
   "source": [
    "## Images\n",
    "\n",
    "To work with images (JPEG, PNG) use the `Image` class."
   ]
  },
  {
   "cell_type": "markdown",
   "metadata": {},
   "source": [
    "Returning an `Image` object from an expression will automatically display it:"
   ]
  },
  {
   "cell_type": "code",
   "execution_count": 5,
   "metadata": {},
   "outputs": [],
   "source": [
    "i = Image(filename='images/logo.png')"
   ]
  },
  {
   "cell_type": "code",
   "execution_count": 6,
   "metadata": {},
   "outputs": [
    {
     "data": {
      "image/png": "[encoded data removed]",
      "text/plain": [
       "<IPython.core.display.Image object>"
      ]
     },
     "execution_count": 6,
     "metadata": {},
     "output_type": "execute_result"
    }
   ],
   "source": [
    "i"
   ]
  },
  {
   "cell_type": "markdown",
   "metadata": {},
   "source": [
    "An image can also be displayed from raw data or a url"
   ]
  },
  {
   "cell_type": "code",
   "execution_count": 7,
   "metadata": {},
   "outputs": [
    {
     "data": {
      "text/html": [
       "<img src=\"http://python.org/images/python-logo.gif\"/>"
      ],
      "text/plain": [
       "<IPython.core.display.Image object>"
      ]
     },
     "execution_count": 7,
     "metadata": {},
     "output_type": "execute_result"
    }
   ],
   "source": [
    "Image(url='http://python.org/images/python-logo.gif')"
   ]
  },
  {
   "cell_type": "markdown",
   "metadata": {},
   "source": [
    "SVG images are also supported out of the box (since modern browsers do a good job of rendering them) see above for Centers of Excellence logo which is a SVG.\n",
    "\n",
    "You can also embed html with iframe"
   ]
  },
  {
   "cell_type": "code",
   "execution_count": 8,
   "metadata": {},
   "outputs": [
    {
     "data": {
      "text/html": [
       "<iframe src=\"https://playground.tensorflow.org\" width=\"1000\" height=\"800\"></iframe>\n"
      ],
      "text/plain": [
       "<IPython.core.display.HTML object>"
      ]
     },
     "metadata": {},
     "output_type": "display_data"
    }
   ],
   "source": [
    "%%html\n",
    "<iframe src=\"https://playground.tensorflow.org\" width=\"1000\" height=\"800\"></iframe>"
   ]
  },
  {
   "cell_type": "markdown",
   "metadata": {},
   "source": [
    "## Links to local files\n",
    "\n",
    "If we want to create a link to one of them, we can call use the `FileLink` object."
   ]
  },
  {
   "cell_type": "code",
   "execution_count": 9,
   "metadata": {},
   "outputs": [],
   "source": [
    "from IPython.display import FileLink, FileLinks"
   ]
  },
  {
   "cell_type": "markdown",
   "metadata": {},
   "source": [
    "Alternatively, if we want to link to all of the files in a directory, we can use the `FileLinks` object, passing `'.'` to indicate that we want links generated for the current working directory. Note that if there were other directories under the current directory, `FileLinks` would work in a recursive manner creating links to files in all sub-directories as well."
   ]
  },
  {
   "cell_type": "code",
   "execution_count": 10,
   "metadata": {},
   "outputs": [
    {
     "name": "stdout",
     "output_type": "stream",
     "text": [
      "00. Install_Conda.ipynb        21. memory_usage.ipynb\n",
      "01. Jupyter_Basics.ipynb       22. ML_Math.ipynb\n",
      "02. Jupyter_Rich_Display.ipynb 23. OCP_Commands.ipynb\n",
      "03. Math_Basics.ipynb          24. SweetViz_EDA.ipynb\n",
      "04. Wrangling_Data.ipynb       25. testing_R.ipynb\n",
      "05. Plotting_Basics.ipynb      26. tf2_image_retraining.ipynb\n",
      "06. ML_Model_Analysis.ipynb    \u001b[34mJulia\u001b[m\u001b[m\n",
      "07. Text_Cleaning.ipynb        \u001b[34mKernel_Tests\u001b[m\u001b[m\n",
      "08. OCR.ipynb                  \u001b[34mR\u001b[m\u001b[m\n",
      "09. GPU_Acceleration.ipynb     README.md\n",
      "10. Cost_Model.ipynb           SWEETVIZ_REPORT.html\n",
      "11. Markdown_Cheatsheet.ipynb  big.txt\n",
      "12. In_statu_nascendi.ipynb    categorical.pkl\n",
      "13. Github_Basics.ipynb        \u001b[34mcode\u001b[m\u001b[m\n",
      "14. EDA.ipynb                  \u001b[34mdata\u001b[m\u001b[m\n",
      "15. Tokenizers.ipynb           \u001b[34mexamples\u001b[m\u001b[m\n",
      "16. Train_Tokenizers.ipynb     \u001b[34mimages\u001b[m\u001b[m\n",
      "17. AutoNLP.ipynb              merges.txt\n",
      "18. Azure_Costs.ipynb          testfile.ipynb\n",
      "19. beginner_tensorflow.ipynb  vocab.json\n",
      "20. GPU_Costs.ipynb\n"
     ]
    }
   ],
   "source": [
    "!ls"
   ]
  },
  {
   "cell_type": "code",
   "execution_count": 11,
   "metadata": {},
   "outputs": [
    {
     "data": {
      "text/html": [
       "./images/ml/<br>\n",
       "&nbsp;&nbsp;<a href='./images/ml/Nystroem Kernel SVM Classifier.png' target='_blank'>Nystroem Kernel SVM Classifier.png</a><br>\n",
       "&nbsp;&nbsp;<a href='./images/ml/XGB3.png' target='_blank'>XGB3.png</a><br>\n",
       "&nbsp;&nbsp;<a href='./images/ml/.DS_Store' target='_blank'>.DS_Store</a><br>\n",
       "&nbsp;&nbsp;<a href='./images/ml/Anomaly Detection Blender.png' target='_blank'>Anomaly Detection Blender.png</a><br>\n",
       "&nbsp;&nbsp;<a href='./images/ml/Jupyter.png' target='_blank'>Jupyter.png</a><br>\n",
       "&nbsp;&nbsp;<a href='./images/ml/XGB_GammaLoss.png' target='_blank'>XGB_GammaLoss.png</a><br>\n",
       "&nbsp;&nbsp;<a href='./images/ml/Auto-Tuned Word N-Gram Text Modeler using token occurrences.png' target='_blank'>Auto-Tuned Word N-Gram Text Modeler using token occurrences.png</a><br>\n",
       "&nbsp;&nbsp;<a href='./images/ml/XGB.png' target='_blank'>XGB.png</a><br>\n",
       "&nbsp;&nbsp;<a href='./images/ml/DataRobotJupyter.png' target='_blank'>DataRobotJupyter.png</a><br>\n",
       "&nbsp;&nbsp;<a href='./images/ml/LightGradientBoostingonElasticNetPredictions.png' target='_blank'>LightGradientBoostingonElasticNetPredictions.png</a><br>\n",
       "&nbsp;&nbsp;<a href='./images/ml/XGB_2.png' target='_blank'>XGB_2.png</a><br>\n",
       "./images/ml/.ipynb_checkpoints/<br>\n",
       "&nbsp;&nbsp;<a href='./images/ml/.ipynb_checkpoints/XGB_2-checkpoint.png' target='_blank'>XGB_2-checkpoint.png</a><br>\n",
       "&nbsp;&nbsp;<a href='./images/ml/.ipynb_checkpoints/Nystroem Kernel SVM Classifier-checkpoint.png' target='_blank'>Nystroem Kernel SVM Classifier-checkpoint.png</a><br>\n",
       "&nbsp;&nbsp;<a href='./images/ml/.ipynb_checkpoints/XGB_GammaLoss-checkpoint.png' target='_blank'>XGB_GammaLoss-checkpoint.png</a><br>"
      ],
      "text/plain": [
       "./images/ml/\n",
       "  Nystroem Kernel SVM Classifier.png\n",
       "  XGB3.png\n",
       "  .DS_Store\n",
       "  Anomaly Detection Blender.png\n",
       "  Jupyter.png\n",
       "  XGB_GammaLoss.png\n",
       "  Auto-Tuned Word N-Gram Text Modeler using token occurrences.png\n",
       "  XGB.png\n",
       "  DataRobotJupyter.png\n",
       "  LightGradientBoostingonElasticNetPredictions.png\n",
       "  XGB_2.png\n",
       "./images/ml/.ipynb_checkpoints/\n",
       "  XGB_2-checkpoint.png\n",
       "  Nystroem Kernel SVM Classifier-checkpoint.png\n",
       "  XGB_GammaLoss-checkpoint.png"
      ]
     },
     "execution_count": 11,
     "metadata": {},
     "output_type": "execute_result"
    }
   ],
   "source": [
    "FileLinks('./images/ml')"
   ]
  },
  {
   "cell_type": "markdown",
   "metadata": {},
   "source": [
    "### Embedded vs Non-embedded Images\n",
    "\n",
    "By default, image data is embedded in the Notebook document so that the images can be viewed offline. However it is also possible to tell the `Image` class to only store a *link* to the image. Let's see how this works using a webcam at Berkeley."
   ]
  },
  {
   "cell_type": "code",
   "execution_count": 27,
   "metadata": {},
   "outputs": [],
   "source": [
    "#this example is not working currently\n",
    "#from IPython.display import Image\n",
    "\n",
    "# by default Image data are embedded\n",
    "#Embed      = Image(url='blob:https://images.skyvdn.com/thumbs/vabeachcam050.flv.png', width=720, height=480)\n",
    "\n",
    "# if kwarg `url` is given, the embedding is assumed to be false\n",
    "#SoftLinked = Image(url='blob:https://www.511virginia.org/bc82c568-a7c3-45de-9d44-74176965b870')\n",
    "\n",
    "# In each case, embed can be specified explicitly with the `embed` kwarg\n",
    "#ForceEmbed = Image(url='blob:https://www.511virginia.org/bc82c568-a7c3-45de-9d44-74176965b870', embed=True)\n",
    "\n",
    "#<video id=\"streamPlayer_html5_api\" class=\"vjs-tech\" autoplay=\"\" preload=\"none\" poster=\"https://images.skyvdn.com/thumbs/vabeachcam050.flv.png\" tabindex=\"-1\" src=\"blob:https://www.511virginia.org/bc82c568-a7c3-45de-9d44-74176965b870\"><source src=\"https://s14.us-east-1.skyvdn.com:443/rtplive/vabeachcam050/playlist.m3u8\" type=\"application/vnd.apple.mpegurl\"><source src=\"rtmp://s14.us-east-1.skyvdn.com:1935/rtplive/vabeachcam050\" type=\"rtmp/mp4\"><p class=\"vjs-no-js\">To view this video please enable JavaScript, and consider upgrading to a web browser that <a href=\"https://videojs.com/html5-video-support/\" target=\"_blank\" class=\"vjs-hidden\" hidden=\"hidden\"> supports HTML5 video</a></p></video>\n",
    "\n",
    "from IPython.display import HTML\n",
    "\n",
    "#HTML(\"\"\"\n",
    "#    <video alt=\"test\" controls>\n",
    "#        <source src=\"blob:https://s14.us-east-1.skyvdn.com:443/rtplive/vabeachcam050/playlist.m3u8\" type=\"video/mp4\">\n",
    "#    </video>\n",
    "#\"\"\")"
   ]
  },
  {
   "cell_type": "code",
   "execution_count": 24,
   "metadata": {},
   "outputs": [],
   "source": [
    "#video = open('https://www.511virginia.org/bc82c568-a7c3-45de-9d44-74176965b870', \"rb\").read()"
   ]
  },
  {
   "cell_type": "markdown",
   "metadata": {},
   "source": [
    "Here is the embedded version. Note that this image was pulled from the webcam when this code cell was originally run and stored in the Notebook."
   ]
  },
  {
   "cell_type": "code",
   "execution_count": 28,
   "metadata": {},
   "outputs": [],
   "source": [
    "#Embed"
   ]
  },
  {
   "cell_type": "markdown",
   "metadata": {},
   "source": [
    "Here is today's image from the webcam at I-395 / MM 10 / NB / Exit 10, 14th Street Bridge, Refreshed if you reload the notebook), visible only with an active internet connection, that should be different from the previous one. Notebooks saved with this kind of image will be lighter and always reflect the current version of the source, but the image won't display offline."
   ]
  },
  {
   "cell_type": "markdown",
   "metadata": {},
   "source": [
    "## Video\n",
    "\n",
    "More exotic objects can also be displayed, as long as their representation supports the IPython display protocol.  For example, videos hosted externally on YouTube are easy to load (and writing a similar wrapper for other hosted content is trivial):"
   ]
  },
  {
   "cell_type": "code",
   "execution_count": 12,
   "metadata": {},
   "outputs": [
    {
     "data": {
      "image/jpeg": "[encoded data removed]",
      "text/html": [
       "\n",
       "        <iframe\n",
       "            width=\"720\"\n",
       "            height=\"480\"\n",
       "            src=\"https://www.youtube.com/embed/HW29067qVWk\"\n",
       "            frameborder=\"0\"\n",
       "            allowfullscreen\n",
       "        ></iframe>\n",
       "        "
      ],
      "text/plain": [
       "<IPython.lib.display.YouTubeVideo at 0x7fe908727910>"
      ]
     },
     "execution_count": 12,
     "metadata": {},
     "output_type": "execute_result"
    }
   ],
   "source": [
    "from IPython.display import YouTubeVideo\n",
    "# Jupyter Notebook Tutorial: Introduction, Setup, and Walkthrough\n",
    "# Video credit: Corey Schafer\n",
    "YouTubeVideo('HW29067qVWk', width=720, height=480)"
   ]
  },
  {
   "cell_type": "markdown",
   "metadata": {},
   "source": [
    "## HTML\n",
    "\n",
    "Python objects can declare HTML representations that will be displayed in the Notebook. If you have some HTML you want to display, simply use the `HTML` class."
   ]
  },
  {
   "cell_type": "code",
   "execution_count": 13,
   "metadata": {},
   "outputs": [],
   "source": [
    "from IPython.display import HTML"
   ]
  },
  {
   "cell_type": "code",
   "execution_count": 14,
   "metadata": {},
   "outputs": [],
   "source": [
    "s = \"\"\"<table>\n",
    "<tr>\n",
    "<th>Header 1</th>\n",
    "<th>Header 2</th>\n",
    "</tr>\n",
    "<tr>\n",
    "<td>row 1, cell 1</td>\n",
    "<td>row 1, cell 2</td>\n",
    "</tr>\n",
    "<tr>\n",
    "<td>row 2, cell 1</td>\n",
    "<td>row 2, cell 2</td>\n",
    "</tr>\n",
    "</table>\"\"\""
   ]
  },
  {
   "cell_type": "code",
   "execution_count": 15,
   "metadata": {},
   "outputs": [
    {
     "data": {
      "text/html": [
       "<table>\n",
       "<tr>\n",
       "<th>Header 1</th>\n",
       "<th>Header 2</th>\n",
       "</tr>\n",
       "<tr>\n",
       "<td>row 1, cell 1</td>\n",
       "<td>row 1, cell 2</td>\n",
       "</tr>\n",
       "<tr>\n",
       "<td>row 2, cell 1</td>\n",
       "<td>row 2, cell 2</td>\n",
       "</tr>\n",
       "</table>"
      ],
      "text/plain": [
       "<IPython.core.display.HTML object>"
      ]
     },
     "execution_count": 15,
     "metadata": {},
     "output_type": "execute_result"
    }
   ],
   "source": [
    "h = HTML(s); h"
   ]
  },
  {
   "cell_type": "markdown",
   "metadata": {},
   "source": [
    "## External sites\n",
    "\n",
    "you can link to various types of sites such as when you need to reference Wikipedia also.\n"
   ]
  },
  {
   "cell_type": "code",
   "execution_count": 16,
   "metadata": {},
   "outputs": [
    {
     "data": {
      "text/html": [
       "<Iframe src=https://en.wikipedia.org/wiki/General_Services_Administration width=800 height=600</iframe>\n"
      ],
      "text/plain": [
       "<IPython.core.display.HTML object>"
      ]
     },
     "metadata": {},
     "output_type": "display_data"
    }
   ],
   "source": [
    "%%html\n",
    "<Iframe src=https://en.wikipedia.org/wiki/General_Services_Administration width=800 height=600</iframe>"
   ]
  },
  {
   "cell_type": "markdown",
   "metadata": {},
   "source": [
    "## Mapping"
   ]
  },
  {
   "cell_type": "code",
   "execution_count": 5,
   "metadata": {},
   "outputs": [],
   "source": [
    "#pip install ipyleaflet  "
   ]
  },
  {
   "cell_type": "code",
   "execution_count": null,
   "metadata": {},
   "outputs": [],
   "source": [
    "#jupyter labextension install jupyter-leaflet"
   ]
  },
  {
   "cell_type": "code",
   "execution_count": 1,
   "metadata": {},
   "outputs": [],
   "source": [
    "from ipyleaflet import Map, basemaps, basemap_to_tiles"
   ]
  },
  {
   "cell_type": "code",
   "execution_count": 2,
   "metadata": {},
   "outputs": [],
   "source": [
    "m = Map(\n",
    "    basemap=basemap_to_tiles(basemaps.NASAGIBS.ModisTerraTrueColorCR, \"2017-04-08\"),\n",
    "    center=(52.204793, 360.121558),\n",
    "    zoom=4\n",
    ")"
   ]
  },
  {
   "cell_type": "code",
   "execution_count": 3,
   "metadata": {},
   "outputs": [
    {
     "data": {
      "application/vnd.jupyter.widget-view+json": {
       "model_id": "fbc2b06302eb42698fdcc78b5724312c",
       "version_major": 2,
       "version_minor": 0
      },
      "text/plain": [
       "Map(center=[52.204793, 360.121558], controls=(ZoomControl(options=['position', 'zoom_in_text', 'zoom_in_title'…"
      ]
     },
     "metadata": {},
     "output_type": "display_data"
    }
   ],
   "source": [
    "m"
   ]
  },
  {
   "cell_type": "code",
   "execution_count": 17,
   "metadata": {},
   "outputs": [
    {
     "data": {
      "text/html": [
       "<IFRAME WIDTH=1000 HEIGHT=700 FRAMEBORDER=0 SRC=\"https://en.wikibooks.org/wiki/Python_Programming/Progress_Bars\"></IFRAME>\n"
      ],
      "text/plain": [
       "<IPython.core.display.HTML object>"
      ]
     },
     "metadata": {},
     "output_type": "display_data"
    }
   ],
   "source": [
    "%%html\n",
    "<IFRAME WIDTH=1000 HEIGHT=700 FRAMEBORDER=0 SRC=\"https://en.wikibooks.org/wiki/Python_Programming/Progress_Bars\"></IFRAME>"
   ]
  },
  {
   "cell_type": "markdown",
   "metadata": {},
   "source": [
    "test"
   ]
  }
 ],
 "metadata": {
  "kernelspec": {
   "display_name": "Python 3",
   "language": "python",
   "name": "python3"
  },
  "language_info": {
   "codemirror_mode": {
    "name": "ipython",
    "version": 3
   },
   "file_extension": ".py",
   "mimetype": "text/x-python",
   "name": "python",
   "nbconvert_exporter": "python",
   "pygments_lexer": "ipython3",
   "version": "3.8.8"
  }
 },
 "nbformat": 4,
 "nbformat_minor": 4
}
