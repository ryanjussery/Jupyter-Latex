{
 "cells": [
  {
   "cell_type": "markdown",
   "metadata": {},
   "source": [
    "[Home](https://pandas.pydata.org/pandas-docs/stable/index.html)\n",
    "[What's New](https://pandas.pydata.org/pandas-docs/stable/whatsnew/v1.0.1.html)\n",
    "[Getting Started](https://pandas.pydata.org/pandas-docs/stable/getting_started/index.html)\n",
    "[User Guide](https://pandas.pydata.org/pandas-docs/stable/user_guide/index.html)\n",
    "[API Reference](https://pandas.pydata.org/pandas-docs/stable/reference/index.html)\n",
    "[Development](https://pandas.pydata.org/pandas-docs/stable/development/index.html)\n",
    "[Release Notes](https://pandas.pydata.org/pandas-docs/stable/whatsnew/index.html)\n",
    "***\n",
    "<img src=\"https://pandas.pydata.org/pandas-docs/stable/_static/pandas.svg\" align=\"left\" alt=\"dataframe image\" width = \"400\">\n",
    "***"
   ]
  },
  {
   "cell_type": "code",
   "execution_count": 9,
   "metadata": {},
   "outputs": [],
   "source": [
    "#standard import The community agreed alias for pandas is pd, so loading pandas as pd is assumed standard practice for all of the pandas documentation.\n",
    "\n",
    "import pandas as pd\n",
    "## from pandas_profiling import ProfileReport\n"
   ]
  },
  {
   "cell_type": "markdown",
   "metadata": {},
   "source": [
    "If you have downloaded a conda distribution then you can ensure you have pandas and update it appropriately (conda install/update pandas) and or utilize (pip install pandas)"
   ]
  },
  {
   "cell_type": "markdown",
   "metadata": {},
   "source": [
    "When working with tabular data, such as data stored in spreadsheets or databases, Pandas is the right tool for you when working in Jupyter Notebook or Lab. Pandas helps you to explore, clean, visualize, analyze and process your data. In Pandas, a data table is called a [DataFrame](https://pandas.pydata.org/pandas-docs/stable/reference/api/pandas.DataFrame.html#pandas.DataFrame).\n",
    "\n",
    "<!--![dataframe](images/dataframe.png) -->\n",
    "<img src=\"https://pandas.pydata.org/pandas-docs/stable/_images/01_table_dataframe.svg\" align=\"left\" alt=\"dataframe image\" width = \"400\">"
   ]
  },
  {
   "cell_type": "code",
   "execution_count": null,
   "metadata": {},
   "outputs": [],
   "source": [
    "%%file data/data.csv\n",
    "Date,Open,High,Low,Close,Volume,Adj Close\n",
    "2012-06-01,569.16,590.00,548.50,584.00,14077000,581.50\n",
    "2012-05-01,584.90,596.76,522.18,577.73,18827900,575.26\n",
    "2012-04-02,601.83,644.00,555.00,583.98,28759100,581.48\n",
    "2012-03-01,548.17,621.45,516.22,599.55,26486000,596.99\n",
    "2012-02-01,458.41,547.61,453.98,542.44,22001000,540.12\n",
    "2012-01-03,409.40,458.24,409.00,456.48,12949100,454.53"
   ]
  },
  {
   "cell_type": "code",
   "execution_count": 11,
   "metadata": {},
   "outputs": [
    {
     "name": "stdout",
     "output_type": "stream",
     "text": [
      " Volume in drive C has no label.\n",
      " Volume Serial Number is 3487-8AFD\n",
      "\n",
      " Directory of C:\\Users\\Default.DESKTOP-RCU2N8C\\Documents\\GitHub\\Jupyter-Latex\\data\n",
      "\n",
      "08/24/2021  07:50 PM    <DIR>          .\n",
      "08/24/2021  07:50 PM    <DIR>          ..\n",
      "08/24/2021  07:50 PM            58,738 AI_Tools.csv\n",
      "08/24/2021  07:50 PM         6,282,282 anime.csv\n",
      "08/24/2021  07:50 PM               706 ANOVA001 - Copy.txt\n",
      "08/24/2021  07:50 PM         1,920,096 avocados.csv\n",
      "08/24/2021  07:50 PM         1,521,008 BankChurners.csv\n",
      "08/24/2021  07:50 PM         1,087,727 BankChurners_clean.csv\n",
      "08/24/2021  07:50 PM        13,478,688 BorderCrossing.xlsx\n",
      "08/24/2021  07:50 PM                 0 categorical.pkl\n",
      "08/24/2021  07:50 PM                81 cellphonetab - Copy.txt\n",
      "08/24/2021  07:50 PM             2,662 ch13_CPI_petrol - Copy.txt\n",
      "08/24/2021  07:50 PM               690 contributing.md\n",
      "08/24/2021  07:50 PM            20,078 cruise_ship.xlsx\n",
      "08/24/2021  07:50 PM               379 data.csv\n",
      "08/24/2021  07:50 PM            22,860 Donner_Pass.xlsx\n",
      "08/24/2021  07:50 PM            18,634 DSO101 L3 pg 4 q1.xlsx\n",
      "08/24/2021  07:50 PM            97,178 DSO101 L4 chocolate-bars.csv\n",
      "08/24/2021  07:50 PM         3,272,847 DSO101 L7 books.csv\n",
      "08/24/2021  07:50 PM               256 DSO101 L7 CarSpeedDependentT.csv\n",
      "08/24/2021  07:50 PM               198 DSO101 L7 cat_water.csv\n",
      "08/24/2021  07:50 PM            12,305 DSO101 L8 aliens.csv\n",
      "08/24/2021  07:50 PM            24,344 DSO101 L8 Donner Pass Chi-Square.xlsx\n",
      "08/24/2021  07:50 PM            24,291 DSO101 L8 friday13 Chi-Square.xlsx\n",
      "08/24/2021  07:50 PM            94,538 DSO101 L8 GallusGallusDomesticus.csv\n",
      "08/24/2021  07:50 PM               884 DSO101 L8 kid_calories.csv\n",
      "08/24/2021  07:50 PM             5,808 DSO101 L9 candy-data.csv\n",
      "08/24/2021  07:50 PM            82,118 DSO102 L6 jackrabbits.csv\n",
      "08/24/2021  07:50 PM             5,329 DSO102 L6skiing.csv\n",
      "08/24/2021  07:50 PM            19,734 DSO102 L7 Gettysburg_Soldiers.xlsx\n",
      "08/24/2021  07:50 PM            19,216 DSO102 L7 laundry.xlsx\n",
      "08/24/2021  07:50 PM           663,552 DSO102 L8 train_accidents.xls\n",
      "08/24/2021  07:50 PM           150,829 DSO102syllabus.zip\n",
      "08/24/2021  07:50 PM         1,320,714 DSO105 L1 government_buildings.csv\n",
      "08/24/2021  07:50 PM           215,875 DSO105 L1 pgaTourData.csv\n",
      "08/24/2021  07:50 PM            39,891 DSO105 L2 hostel.csv\n",
      "08/24/2021  07:50 PM            18,165 DSO105 L4 client_cancellations.csv\n",
      "08/24/2021  07:50 PM            18,440 DSO106 Modeling L1 manatees_outliers.xlsx\n",
      "08/24/2021  07:50 PM         2,964,678 financialWB.csv\n",
      "08/24/2021  07:50 PM               233 fishersays - Copy.txt\n",
      "08/24/2021  07:50 PM             1,570 frostedflakes.csv\n",
      "08/24/2021  07:50 PM               709 frostedflakes.zip\n",
      "08/24/2021  07:50 PM            81,976 GDPpercapita.xlsx\n",
      "08/24/2021  07:50 PM           641,208 gov_domains.csv\n",
      "08/24/2021  07:50 PM            49,195 heroes_information.csv\n",
      "08/24/2021  07:50 PM            10,409 kernels.csv\n",
      "08/24/2021  07:50 PM               146 L10handsonDataScenario2.csv\n",
      "08/24/2021  07:50 PM         5,076,042 landtemps.ftr\n",
      "08/24/2021  07:50 PM         4,941,695 landtemps.pkl\n",
      "08/24/2021  07:50 PM         7,324,165 landtempssample.csv\n",
      "08/24/2021  07:50 PM         7,129,007 ld.csv\n",
      "08/24/2021  07:50 PM           600,476 Lesson-6-Hands-on.zip\n",
      "08/24/2021  07:50 PM            94,187 Lesson-7-Hands-On-Presentation.zip\n",
      "08/24/2021  07:50 PM             1,380 LICENSE.txt\n",
      "08/24/2021  07:50 PM           906,462 list-skus.csv\n",
      "08/24/2021  07:50 PM           906,462 list-skus.json\n",
      "08/24/2021  07:50 PM        23,952,439 list-skus2.json\n",
      "08/24/2021  07:50 PM         2,104,820 melb_data.csv\n",
      "08/24/2021  07:50 PM               495 memory_ch11 - Copy.txt\n",
      "08/24/2021  07:50 PM               308 mixedModel - Copy.csv\n",
      "08/24/2021  07:50 PM         1,545,680 nls97.dta\n",
      "08/24/2021  07:50 PM           206,251 nls97.rds\n",
      "08/24/2021  07:50 PM         3,145,728 nls97.sas7bdat\n",
      "08/24/2021  07:50 PM           726,707 nls97.sav\n",
      "08/24/2021  07:50 PM           182,284 nls97withvalues.rds\n",
      "08/24/2021  07:50 PM             4,974 nlscodes.txt\n",
      "08/24/2021  07:50 PM            36,864 nlsformats3.sas7bcat\n",
      "08/24/2021  07:50 PM               342 Payments.csv\n",
      "08/24/2021  07:50 PM               434 Payments2.csv\n",
      "08/24/2021  07:50 PM             9,983 Pets.xlsx\n",
      "08/24/2021  07:50 PM             7,634 Pets.zip\n",
      "08/24/2021  07:50 PM               151 PetsCSV.csv\n",
      "08/24/2021  07:50 PM               241 PetsCSV.zip\n",
      "08/24/2021  07:50 PM             1,571 pgaTourData_dependent.csv\n",
      "08/24/2021  07:50 PM               908 Power_Usage.csv\n",
      "08/24/2021  07:50 PM             1,145 Power_Usage_Max.csv\n",
      "08/24/2021  07:50 PM               382 QuizScores - Copy.txt\n",
      "08/24/2021  07:50 PM         2,662,354 rdu-weather-history.json\n",
      "08/24/2021  07:50 PM               185 repeated_fitness_Ch12 - Copy.txt\n",
      "08/24/2021  07:50 PM               527 roster.csv\n",
      "08/24/2021  07:50 PM               305 scores.zip\n",
      "08/24/2021  07:50 PM             3,843 Seattle_ParksnRec.csv\n",
      "08/24/2021  07:50 PM               368 stack - Copy.txt\n",
      "08/24/2021  07:50 PM             9,326 stock_ch13 - Copy.csv\n",
      "08/24/2021  07:50 PM           672,305 super_hero_powers.csv\n",
      "08/24/2021  07:50 PM           663,552 train_accidents.xls\n",
      "08/24/2021  07:50 PM            18,819 USDA_nutrition.csv\n",
      "08/24/2021  07:50 PM                35 yvector - Copy.txt\n",
      "              86 File(s)     97,192,101 bytes\n",
      "               2 Dir(s)  51,928,088,576 bytes free\n"
     ]
    }
   ],
   "source": [
    "!dir data"
   ]
  },
  {
   "cell_type": "code",
   "execution_count": 12,
   "metadata": {},
   "outputs": [],
   "source": [
    "#set max columns\n",
    "pd.set_option('display.max_columns', None)"
   ]
  },
  {
   "cell_type": "markdown",
   "metadata": {},
   "source": [
    "Read this as into a DataFrame:"
   ]
  },
  {
   "cell_type": "code",
   "execution_count": 14,
   "metadata": {},
   "outputs": [],
   "source": [
    "df = pd.read_csv('data/gov_domains.csv')"
   ]
  },
  {
   "cell_type": "code",
   "execution_count": null,
   "metadata": {},
   "outputs": [],
   "source": [
    "profile = ProfileReport(df, title='Government Domains Profiling Report', explorative=True)"
   ]
  },
  {
   "cell_type": "code",
   "execution_count": 15,
   "metadata": {},
   "outputs": [
    {
     "data": {
      "text/html": [
       "<div>\n",
       "<style scoped>\n",
       "    .dataframe tbody tr th:only-of-type {\n",
       "        vertical-align: middle;\n",
       "    }\n",
       "\n",
       "    .dataframe tbody tr th {\n",
       "        vertical-align: top;\n",
       "    }\n",
       "\n",
       "    .dataframe thead th {\n",
       "        text-align: right;\n",
       "    }\n",
       "</style>\n",
       "<table border=\"1\" class=\"dataframe\">\n",
       "  <thead>\n",
       "    <tr style=\"text-align: right;\">\n",
       "      <th></th>\n",
       "      <th>Domain Name</th>\n",
       "      <th>Domain Type</th>\n",
       "      <th>Agency</th>\n",
       "      <th>Organization</th>\n",
       "      <th>City</th>\n",
       "      <th>State</th>\n",
       "      <th>Security Contact Email</th>\n",
       "    </tr>\n",
       "  </thead>\n",
       "  <tbody>\n",
       "    <tr>\n",
       "      <th>0</th>\n",
       "      <td>ABERDEENMD.GOV</td>\n",
       "      <td>City</td>\n",
       "      <td>Non-Federal Agency</td>\n",
       "      <td>City of Aberdeen</td>\n",
       "      <td>Aberdeen</td>\n",
       "      <td>MD</td>\n",
       "      <td>(blank)</td>\n",
       "    </tr>\n",
       "    <tr>\n",
       "      <th>1</th>\n",
       "      <td>ABERDEENWA.GOV</td>\n",
       "      <td>City</td>\n",
       "      <td>Non-Federal Agency</td>\n",
       "      <td>City of Aberdeen</td>\n",
       "      <td>Aberdeen</td>\n",
       "      <td>WA</td>\n",
       "      <td>(blank)</td>\n",
       "    </tr>\n",
       "    <tr>\n",
       "      <th>2</th>\n",
       "      <td>ABILENETX.GOV</td>\n",
       "      <td>City</td>\n",
       "      <td>Non-Federal Agency</td>\n",
       "      <td>City of Abilene</td>\n",
       "      <td>Abilene</td>\n",
       "      <td>TX</td>\n",
       "      <td>(blank)</td>\n",
       "    </tr>\n",
       "    <tr>\n",
       "      <th>3</th>\n",
       "      <td>ABINGDON-VA.GOV</td>\n",
       "      <td>City</td>\n",
       "      <td>Non-Federal Agency</td>\n",
       "      <td>Town of Abingdon</td>\n",
       "      <td>Abingdon</td>\n",
       "      <td>VA</td>\n",
       "      <td>(blank)</td>\n",
       "    </tr>\n",
       "    <tr>\n",
       "      <th>4</th>\n",
       "      <td>ABINGTONMA.GOV</td>\n",
       "      <td>City</td>\n",
       "      <td>Non-Federal Agency</td>\n",
       "      <td>Town of Abington</td>\n",
       "      <td>Abington</td>\n",
       "      <td>MA</td>\n",
       "      <td>wnorling@abingtonma.gov</td>\n",
       "    </tr>\n",
       "    <tr>\n",
       "      <th>...</th>\n",
       "      <td>...</td>\n",
       "      <td>...</td>\n",
       "      <td>...</td>\n",
       "      <td>...</td>\n",
       "      <td>...</td>\n",
       "      <td>...</td>\n",
       "      <td>...</td>\n",
       "    </tr>\n",
       "    <tr>\n",
       "      <th>6230</th>\n",
       "      <td>WYWINDFALL.GOV</td>\n",
       "      <td>State/Local Govt</td>\n",
       "      <td>Non-Federal Agency</td>\n",
       "      <td>State Of Wyoming</td>\n",
       "      <td>Cheyenne</td>\n",
       "      <td>WY</td>\n",
       "      <td>ets-security@wyo.gov</td>\n",
       "    </tr>\n",
       "    <tr>\n",
       "      <th>6231</th>\n",
       "      <td>YARROWPOINTWA.GOV</td>\n",
       "      <td>State/Local Govt</td>\n",
       "      <td>Non-Federal Agency</td>\n",
       "      <td>Town of Yarrow Point</td>\n",
       "      <td>Yarrow Point</td>\n",
       "      <td>WA</td>\n",
       "      <td>(blank)</td>\n",
       "    </tr>\n",
       "    <tr>\n",
       "      <th>6232</th>\n",
       "      <td>YORKSC.GOV</td>\n",
       "      <td>State/Local Govt</td>\n",
       "      <td>Non-Federal Agency</td>\n",
       "      <td>City of York</td>\n",
       "      <td>York</td>\n",
       "      <td>SC</td>\n",
       "      <td>(blank)</td>\n",
       "    </tr>\n",
       "    <tr>\n",
       "      <th>6233</th>\n",
       "      <td>ZERODEATHSMD.GOV</td>\n",
       "      <td>State/Local Govt</td>\n",
       "      <td>Non-Federal Agency</td>\n",
       "      <td>Maryland Highway Safety Office</td>\n",
       "      <td>Glen Burnie</td>\n",
       "      <td>MD</td>\n",
       "      <td>dkopke@mdot.maryland.gov</td>\n",
       "    </tr>\n",
       "    <tr>\n",
       "      <th>6234</th>\n",
       "      <td>ZEROINWISCONSIN.GOV</td>\n",
       "      <td>State/Local Govt</td>\n",
       "      <td>Non-Federal Agency</td>\n",
       "      <td>Wisconsin Department of Transportation</td>\n",
       "      <td>Madison</td>\n",
       "      <td>WI</td>\n",
       "      <td>dotcomputersecurity@dot.wi.gov</td>\n",
       "    </tr>\n",
       "  </tbody>\n",
       "</table>\n",
       "<p>6235 rows × 7 columns</p>\n",
       "</div>"
      ],
      "text/plain": [
       "              Domain Name       Domain Type              Agency  \\\n",
       "0          ABERDEENMD.GOV              City  Non-Federal Agency   \n",
       "1          ABERDEENWA.GOV              City  Non-Federal Agency   \n",
       "2           ABILENETX.GOV              City  Non-Federal Agency   \n",
       "3         ABINGDON-VA.GOV              City  Non-Federal Agency   \n",
       "4          ABINGTONMA.GOV              City  Non-Federal Agency   \n",
       "...                   ...               ...                 ...   \n",
       "6230       WYWINDFALL.GOV  State/Local Govt  Non-Federal Agency   \n",
       "6231    YARROWPOINTWA.GOV  State/Local Govt  Non-Federal Agency   \n",
       "6232           YORKSC.GOV  State/Local Govt  Non-Federal Agency   \n",
       "6233     ZERODEATHSMD.GOV  State/Local Govt  Non-Federal Agency   \n",
       "6234  ZEROINWISCONSIN.GOV  State/Local Govt  Non-Federal Agency   \n",
       "\n",
       "                                Organization          City State  \\\n",
       "0                           City of Aberdeen      Aberdeen    MD   \n",
       "1                           City of Aberdeen      Aberdeen    WA   \n",
       "2                            City of Abilene       Abilene    TX   \n",
       "3                           Town of Abingdon      Abingdon    VA   \n",
       "4                           Town of Abington      Abington    MA   \n",
       "...                                      ...           ...   ...   \n",
       "6230                        State Of Wyoming      Cheyenne    WY   \n",
       "6231                    Town of Yarrow Point  Yarrow Point    WA   \n",
       "6232                            City of York          York    SC   \n",
       "6233          Maryland Highway Safety Office   Glen Burnie    MD   \n",
       "6234  Wisconsin Department of Transportation       Madison    WI   \n",
       "\n",
       "              Security Contact Email  \n",
       "0                            (blank)  \n",
       "1                            (blank)  \n",
       "2                            (blank)  \n",
       "3                            (blank)  \n",
       "4            wnorling@abingtonma.gov  \n",
       "...                              ...  \n",
       "6230            ets-security@wyo.gov  \n",
       "6231                         (blank)  \n",
       "6232                         (blank)  \n",
       "6233        dkopke@mdot.maryland.gov  \n",
       "6234  dotcomputersecurity@dot.wi.gov  \n",
       "\n",
       "[6235 rows x 7 columns]"
      ]
     },
     "execution_count": 15,
     "metadata": {},
     "output_type": "execute_result"
    }
   ],
   "source": [
    "df"
   ]
  },
  {
   "cell_type": "code",
   "execution_count": 7,
   "metadata": {},
   "outputs": [
    {
     "ename": "NameError",
     "evalue": "name 'profile' is not defined",
     "output_type": "error",
     "traceback": [
      "\u001b[1;31m---------------------------------------------------------------------------\u001b[0m",
      "\u001b[1;31mNameError\u001b[0m                                 Traceback (most recent call last)",
      "\u001b[1;32m<ipython-input-7-f9dbdb59857a>\u001b[0m in \u001b[0;36m<module>\u001b[1;34m\u001b[0m\n\u001b[1;32m----> 1\u001b[1;33m \u001b[0mprofile\u001b[0m\u001b[1;33m\u001b[0m\u001b[1;33m\u001b[0m\u001b[0m\n\u001b[0m",
      "\u001b[1;31mNameError\u001b[0m: name 'profile' is not defined"
     ]
    }
   ],
   "source": [
    "profile"
   ]
  },
  {
   "cell_type": "markdown",
   "metadata": {},
   "source": [
    "Each column in a DataFrame is a Series!"
   ]
  },
  {
   "cell_type": "code",
   "execution_count": 16,
   "metadata": {},
   "outputs": [
    {
     "data": {
      "text/plain": [
       "0            ABERDEENMD.GOV\n",
       "1            ABERDEENWA.GOV\n",
       "2             ABILENETX.GOV\n",
       "3           ABINGDON-VA.GOV\n",
       "4            ABINGTONMA.GOV\n",
       "               ...         \n",
       "6230         WYWINDFALL.GOV\n",
       "6231      YARROWPOINTWA.GOV\n",
       "6232             YORKSC.GOV\n",
       "6233       ZERODEATHSMD.GOV\n",
       "6234    ZEROINWISCONSIN.GOV\n",
       "Name: Domain Name, Length: 6235, dtype: object"
      ]
     },
     "execution_count": 16,
     "metadata": {},
     "output_type": "execute_result"
    }
   ],
   "source": [
    "#to call just one column and put it into a series\n",
    "df['Domain Name']"
   ]
  },
  {
   "cell_type": "code",
   "execution_count": null,
   "metadata": {},
   "outputs": [],
   "source": [
    "#to call a row of data use .loc[index]\n",
    "df.loc[3]"
   ]
  },
  {
   "cell_type": "code",
   "execution_count": null,
   "metadata": {},
   "outputs": [],
   "source": [
    "#to call just one column and statistically describe\n",
    "df['Domain Name'].describe()"
   ]
  },
  {
   "cell_type": "code",
   "execution_count": null,
   "metadata": {},
   "outputs": [],
   "source": [
    "#df['State'].where(df['Domain Name'] == 'ai.mil')\n",
    "df1 = df['Domain Name'].str.contains(\".GOV\") \n",
    "print(df1)"
   ]
  },
  {
   "cell_type": "markdown",
   "metadata": {},
   "source": [
    "Pandas supports the integration with many file formats or data sources out of the box (csv, excel, sql, json, parquet,html, hdf5). Importing data from each of these data sources is provided by function with the prefix read_*. Similarly, the to_* methods are used to store data. see supported list: https://pandas.pydata.org/pandas-docs/stable/user_guide/io.html\n",
    "\n",
    "<img src=\"https://pandas.pydata.org/pandas-docs/stable/_images/02_io_readwrite.svg\" alt=\"dataframe image\" width = \"600\">\n"
   ]
  },
  {
   "cell_type": "code",
   "execution_count": null,
   "metadata": {},
   "outputs": [],
   "source": [
    "df2 = pd.read_csv('data/AI_Tools.csv')"
   ]
  },
  {
   "cell_type": "code",
   "execution_count": null,
   "metadata": {},
   "outputs": [],
   "source": [
    "df2.head()"
   ]
  },
  {
   "cell_type": "code",
   "execution_count": null,
   "metadata": {},
   "outputs": [],
   "source": [
    "list(df2.columns)"
   ]
  },
  {
   "cell_type": "code",
   "execution_count": null,
   "metadata": {},
   "outputs": [],
   "source": [
    "df4 = df2[['Tool/Capability', 'Capability Type' ]]"
   ]
  },
  {
   "cell_type": "code",
   "execution_count": null,
   "metadata": {},
   "outputs": [],
   "source": [
    "df4.groupby(['Capability Type']).count()"
   ]
  },
  {
   "cell_type": "code",
   "execution_count": null,
   "metadata": {},
   "outputs": [],
   "source": [
    "#You would be hard pressed to find any place better to get federal data and integrate into your project. Data.gov\n",
    "import webbrowser\n",
    "datagov = 'https://www.data.gov/'\n",
    "webbrowser.open(datagov)"
   ]
  },
  {
   "cell_type": "code",
   "execution_count": null,
   "metadata": {},
   "outputs": [],
   "source": [
    "#https://catalog.data.gov/dataset/local-weather-archive Town of Cary, North Carolina\n",
    "!ls data"
   ]
  },
  {
   "cell_type": "code",
   "execution_count": null,
   "metadata": {},
   "outputs": [],
   "source": [
    "weatherdf = pd.read_json('data/rdu-weather-history.json')"
   ]
  },
  {
   "cell_type": "code",
   "execution_count": null,
   "metadata": {},
   "outputs": [],
   "source": [
    "list(weatherdf.columns)"
   ]
  },
  {
   "cell_type": "code",
   "execution_count": null,
   "metadata": {},
   "outputs": [],
   "source": [
    "weatherdf.head()"
   ]
  },
  {
   "cell_type": "code",
   "execution_count": null,
   "metadata": {},
   "outputs": [],
   "source": [
    "weatherdf"
   ]
  },
  {
   "cell_type": "code",
   "execution_count": null,
   "metadata": {},
   "outputs": [],
   "source": [
    "#You can also use boolean to ask questions\n",
    "snowed = weatherdf['snowfall'] > 0"
   ]
  },
  {
   "cell_type": "code",
   "execution_count": null,
   "metadata": {},
   "outputs": [],
   "source": [
    "snowed"
   ]
  },
  {
   "cell_type": "code",
   "execution_count": null,
   "metadata": {},
   "outputs": [],
   "source": [
    "weatherdf.snowfall.value_counts()"
   ]
  },
  {
   "cell_type": "code",
   "execution_count": null,
   "metadata": {},
   "outputs": [],
   "source": [
    "weatherdf.precipitation.value_counts()"
   ]
  },
  {
   "cell_type": "code",
   "execution_count": null,
   "metadata": {},
   "outputs": [],
   "source": [
    "import numpy as np\n",
    "from pandas import Series, DataFrame"
   ]
  },
  {
   "cell_type": "code",
   "execution_count": null,
   "metadata": {},
   "outputs": [],
   "source": [
    "#Quicklearn DataFrames\n",
    "\n",
    "#Let's get some data to play with. How about the Jupyter Kernels github\n",
    "import webbrowser\n",
    "website = 'https://github.com/jupyter/jupyter/wiki/Jupyter-kernels'\n",
    "webbrowser.open(website)"
   ]
  },
  {
   "cell_type": "code",
   "execution_count": null,
   "metadata": {},
   "outputs": [],
   "source": [
    "#Copy and read to get data\n",
    "kernels = pd.read_clipboard()"
   ]
  },
  {
   "cell_type": "code",
   "execution_count": null,
   "metadata": {},
   "outputs": [],
   "source": [
    "kernels"
   ]
  },
  {
   "cell_type": "code",
   "execution_count": null,
   "metadata": {},
   "outputs": [],
   "source": [
    "#write to file to save your dataframe as a csv\n",
    "kernels.to_csv(r'data/kernels.csv')"
   ]
  },
  {
   "cell_type": "code",
   "execution_count": null,
   "metadata": {},
   "outputs": [],
   "source": [
    "!ls data"
   ]
  },
  {
   "cell_type": "code",
   "execution_count": null,
   "metadata": {},
   "outputs": [],
   "source": [
    "# We can view the column names with .columns\n",
    "kernels.columns"
   ]
  },
  {
   "cell_type": "code",
   "execution_count": null,
   "metadata": {},
   "outputs": [],
   "source": [
    "#View specific data columns\n",
    "DataFrame(kernels,columns=['Name','Language(s) Version','Notes'])"
   ]
  },
  {
   "cell_type": "code",
   "execution_count": null,
   "metadata": {},
   "outputs": [],
   "source": [
    "#We can view/retrieive individual columns\n",
    "kernels['Name']"
   ]
  },
  {
   "cell_type": "code",
   "execution_count": null,
   "metadata": {},
   "outputs": [],
   "source": [
    "#We can retrieve  a specific row through indexing\n",
    "kernels.loc[10]"
   ]
  },
  {
   "cell_type": "code",
   "execution_count": null,
   "metadata": {},
   "outputs": [],
   "source": [
    "#Can also view an index range\n",
    "kernels[20:30]"
   ]
  },
  {
   "cell_type": "code",
   "execution_count": null,
   "metadata": {},
   "outputs": [],
   "source": [
    "#Another way to select and view multiple columns\n",
    "kernals2 = kernels[['Name','Language(s) Version']]"
   ]
  },
  {
   "cell_type": "code",
   "execution_count": null,
   "metadata": {},
   "outputs": [],
   "source": [
    "kernals2"
   ]
  },
  {
   "cell_type": "code",
   "execution_count": null,
   "metadata": {},
   "outputs": [],
   "source": [
    "#You can also use boolean to ask questions\n",
    "kernels[kernels['Language(s) Version']=='NodeJs 12']"
   ]
  },
  {
   "cell_type": "code",
   "execution_count": null,
   "metadata": {},
   "outputs": [],
   "source": [
    "kernels.count(axis='rows')"
   ]
  },
  {
   "cell_type": "code",
   "execution_count": null,
   "metadata": {},
   "outputs": [],
   "source": [
    "#read excel\n",
    "train_accidents = pd.read_excel('data/train_accidents.xls')"
   ]
  },
  {
   "cell_type": "code",
   "execution_count": null,
   "metadata": {},
   "outputs": [],
   "source": [
    "train_accidents.head()"
   ]
  },
  {
   "cell_type": "code",
   "execution_count": null,
   "metadata": {},
   "outputs": [],
   "source": []
  }
 ],
 "metadata": {
  "kernelspec": {
   "display_name": "Python 3",
   "language": "python",
   "name": "python3"
  },
  "language_info": {
   "codemirror_mode": {
    "name": "ipython",
    "version": 3
   },
   "file_extension": ".py",
   "mimetype": "text/x-python",
   "name": "python",
   "nbconvert_exporter": "python",
   "pygments_lexer": "ipython3",
   "version": "3.8.8"
  }
 },
 "nbformat": 4,
 "nbformat_minor": 4
}
